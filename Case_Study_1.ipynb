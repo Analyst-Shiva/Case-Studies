{
  "cells": [
    {
      "cell_type": "markdown",
      "id": "47f14c7a",
      "metadata": {
        "id": "47f14c7a"
      },
      "source": [
        "# Introduction\n",
        "Anny seriously loves Japanese food so in the beginning of 2021, he decides to embark upon a risky venture and opens up a cute little restaurant that sells his 3 favourite foods: **sushi, curry and ramen.**\n",
        "\n",
        "Anny’s Diner is in need of your assistance to help the restaurant stay afloat - the restaurant has captured some very basic data from their few months of operation but have no idea how to use their data to help them run the business.\n",
        "\n",
        "## Problem_statement\n",
        "Anny wants to use the data to answer a few simple questions about his customers, especially about their visiting patterns, how much money they’ve spent and also which menu items are their favourite. Having this deeper connection with his customers will help him deliver a better and more personalised experience for his loyal customers.\n",
        "\n",
        "He plans on using these insights to help him decide whether he should expand the existing customer loyalty program - additionally he needs help to generate some basic datasets so his team can easily inspect the data without needing to use SQL.\n",
        "\n",
        "Danny has provided you with a sample of his overall customer data due to privacy issues - but he hopes that these examples are enough for you to write fully functioning pandas code  to help him answer his questions!\n",
        "\n",
        "Anny has shared with you 3 key datasets for this case study:\n",
        "\n",
        "- sales\n",
        "- menu\n",
        "- members"
      ]
    },
    {
      "cell_type": "code",
      "execution_count": null,
      "id": "d3695a27",
      "metadata": {
        "id": "d3695a27"
      },
      "outputs": [],
      "source": []
    },
    {
      "cell_type": "markdown",
      "id": "fd90b43a",
      "metadata": {
        "id": "fd90b43a"
      },
      "source": [
        "## Bring in the necessary libraries for your work. Import the tools and resources needed to accomplish your tasks."
      ]
    },
    {
      "cell_type": "code",
      "execution_count": null,
      "id": "5fa82562",
      "metadata": {
        "id": "5fa82562"
      },
      "outputs": [],
      "source": [
        "# importing the required libraries\n",
        "import numpy as np\n",
        "import pandas as pd"
      ]
    },
    {
      "cell_type": "markdown",
      "id": "4fcf6bf1",
      "metadata": {
        "id": "4fcf6bf1"
      },
      "source": [
        "## Import the necessary data for analysis. Bring in the information that you need to examine and draw insights from."
      ]
    },
    {
      "cell_type": "code",
      "execution_count": null,
      "id": "88622ffb",
      "metadata": {
        "id": "88622ffb"
      },
      "outputs": [],
      "source": [
        "# importing the required data\n",
        "sales = pd.read_csv(r\"C:\\Users\\THINKPAD\\Desktop\\PANDAS_CASE_STUDY\\Case_study_1\\sales.csv\")\n",
        "menu = pd.read_csv(r\"C:\\Users\\THINKPAD\\Desktop\\PANDAS_CASE_STUDY\\Case_study_1\\menu.csv\")\n",
        "members = pd.read_csv(r\"C:\\Users\\THINKPAD\\Desktop\\PANDAS_CASE_STUDY\\Case_study_1\\members.csv\")"
      ]
    },
    {
      "cell_type": "markdown",
      "id": "52485d13",
      "metadata": {
        "id": "52485d13"
      },
      "source": [
        "# Explore the details of all datasets by checking their information"
      ]
    },
    {
      "cell_type": "code",
      "execution_count": null,
      "id": "fc9d5e20",
      "metadata": {
        "id": "fc9d5e20",
        "outputId": "91a1a08a-e183-4f75-ade5-ef3c5bf8ace0"
      },
      "outputs": [
        {
          "data": {
            "text/html": [
              "<div>\n",
              "<style scoped>\n",
              "    .dataframe tbody tr th:only-of-type {\n",
              "        vertical-align: middle;\n",
              "    }\n",
              "\n",
              "    .dataframe tbody tr th {\n",
              "        vertical-align: top;\n",
              "    }\n",
              "\n",
              "    .dataframe thead th {\n",
              "        text-align: right;\n",
              "    }\n",
              "</style>\n",
              "<table border=\"1\" class=\"dataframe\">\n",
              "  <thead>\n",
              "    <tr style=\"text-align: right;\">\n",
              "      <th></th>\n",
              "      <th>customer_id</th>\n",
              "      <th>order_date</th>\n",
              "      <th>product_id</th>\n",
              "    </tr>\n",
              "  </thead>\n",
              "  <tbody>\n",
              "    <tr>\n",
              "      <th>0</th>\n",
              "      <td>A</td>\n",
              "      <td>2021-01-01</td>\n",
              "      <td>1</td>\n",
              "    </tr>\n",
              "    <tr>\n",
              "      <th>1</th>\n",
              "      <td>A</td>\n",
              "      <td>2021-01-01</td>\n",
              "      <td>2</td>\n",
              "    </tr>\n",
              "    <tr>\n",
              "      <th>2</th>\n",
              "      <td>A</td>\n",
              "      <td>2021-01-07</td>\n",
              "      <td>2</td>\n",
              "    </tr>\n",
              "    <tr>\n",
              "      <th>3</th>\n",
              "      <td>A</td>\n",
              "      <td>2021-01-10</td>\n",
              "      <td>3</td>\n",
              "    </tr>\n",
              "    <tr>\n",
              "      <th>4</th>\n",
              "      <td>A</td>\n",
              "      <td>2021-01-11</td>\n",
              "      <td>3</td>\n",
              "    </tr>\n",
              "    <tr>\n",
              "      <th>5</th>\n",
              "      <td>A</td>\n",
              "      <td>2021-01-11</td>\n",
              "      <td>3</td>\n",
              "    </tr>\n",
              "    <tr>\n",
              "      <th>6</th>\n",
              "      <td>B</td>\n",
              "      <td>2021-01-01</td>\n",
              "      <td>2</td>\n",
              "    </tr>\n",
              "    <tr>\n",
              "      <th>7</th>\n",
              "      <td>B</td>\n",
              "      <td>2021-01-02</td>\n",
              "      <td>2</td>\n",
              "    </tr>\n",
              "    <tr>\n",
              "      <th>8</th>\n",
              "      <td>B</td>\n",
              "      <td>2021-01-04</td>\n",
              "      <td>1</td>\n",
              "    </tr>\n",
              "    <tr>\n",
              "      <th>9</th>\n",
              "      <td>B</td>\n",
              "      <td>2021-01-11</td>\n",
              "      <td>1</td>\n",
              "    </tr>\n",
              "    <tr>\n",
              "      <th>10</th>\n",
              "      <td>B</td>\n",
              "      <td>2021-01-16</td>\n",
              "      <td>3</td>\n",
              "    </tr>\n",
              "    <tr>\n",
              "      <th>11</th>\n",
              "      <td>B</td>\n",
              "      <td>2021-02-01</td>\n",
              "      <td>3</td>\n",
              "    </tr>\n",
              "    <tr>\n",
              "      <th>12</th>\n",
              "      <td>C</td>\n",
              "      <td>2021-01-01</td>\n",
              "      <td>3</td>\n",
              "    </tr>\n",
              "    <tr>\n",
              "      <th>13</th>\n",
              "      <td>C</td>\n",
              "      <td>2021-01-01</td>\n",
              "      <td>3</td>\n",
              "    </tr>\n",
              "    <tr>\n",
              "      <th>14</th>\n",
              "      <td>C</td>\n",
              "      <td>2021-01-07</td>\n",
              "      <td>3</td>\n",
              "    </tr>\n",
              "  </tbody>\n",
              "</table>\n",
              "</div>"
            ],
            "text/plain": [
              "   customer_id  order_date  product_id\n",
              "0            A  2021-01-01           1\n",
              "1            A  2021-01-01           2\n",
              "2            A  2021-01-07           2\n",
              "3            A  2021-01-10           3\n",
              "4            A  2021-01-11           3\n",
              "5            A  2021-01-11           3\n",
              "6            B  2021-01-01           2\n",
              "7            B  2021-01-02           2\n",
              "8            B  2021-01-04           1\n",
              "9            B  2021-01-11           1\n",
              "10           B  2021-01-16           3\n",
              "11           B  2021-02-01           3\n",
              "12           C  2021-01-01           3\n",
              "13           C  2021-01-01           3\n",
              "14           C  2021-01-07           3"
            ]
          },
          "execution_count": 3,
          "metadata": {},
          "output_type": "execute_result"
        }
      ],
      "source": [
        "sales"
      ]
    },
    {
      "cell_type": "code",
      "execution_count": null,
      "id": "ba85d65a",
      "metadata": {
        "id": "ba85d65a",
        "outputId": "304a34b2-6c28-4368-dc6c-6734da56cbb5"
      },
      "outputs": [
        {
          "name": "stdout",
          "output_type": "stream",
          "text": [
            "<class 'pandas.core.frame.DataFrame'>\n",
            "RangeIndex: 15 entries, 0 to 14\n",
            "Data columns (total 3 columns):\n",
            " #   Column       Non-Null Count  Dtype \n",
            "---  ------       --------------  ----- \n",
            " 0   customer_id  15 non-null     object\n",
            " 1   order_date   15 non-null     object\n",
            " 2   product_id   15 non-null     int64 \n",
            "dtypes: int64(1), object(2)\n",
            "memory usage: 492.0+ bytes\n"
          ]
        }
      ],
      "source": [
        "sales.info()"
      ]
    },
    {
      "cell_type": "code",
      "execution_count": null,
      "id": "209a8e96",
      "metadata": {
        "id": "209a8e96",
        "outputId": "579ea4a6-ef7c-4b6a-e499-1c6683f5c679"
      },
      "outputs": [
        {
          "data": {
            "text/html": [
              "<div>\n",
              "<style scoped>\n",
              "    .dataframe tbody tr th:only-of-type {\n",
              "        vertical-align: middle;\n",
              "    }\n",
              "\n",
              "    .dataframe tbody tr th {\n",
              "        vertical-align: top;\n",
              "    }\n",
              "\n",
              "    .dataframe thead th {\n",
              "        text-align: right;\n",
              "    }\n",
              "</style>\n",
              "<table border=\"1\" class=\"dataframe\">\n",
              "  <thead>\n",
              "    <tr style=\"text-align: right;\">\n",
              "      <th></th>\n",
              "      <th>product_id</th>\n",
              "      <th>product_name</th>\n",
              "      <th>price</th>\n",
              "    </tr>\n",
              "  </thead>\n",
              "  <tbody>\n",
              "    <tr>\n",
              "      <th>0</th>\n",
              "      <td>1</td>\n",
              "      <td>sushi</td>\n",
              "      <td>10</td>\n",
              "    </tr>\n",
              "    <tr>\n",
              "      <th>1</th>\n",
              "      <td>2</td>\n",
              "      <td>curry</td>\n",
              "      <td>15</td>\n",
              "    </tr>\n",
              "    <tr>\n",
              "      <th>2</th>\n",
              "      <td>3</td>\n",
              "      <td>ramen</td>\n",
              "      <td>12</td>\n",
              "    </tr>\n",
              "  </tbody>\n",
              "</table>\n",
              "</div>"
            ],
            "text/plain": [
              "   product_id product_name  price\n",
              "0           1        sushi     10\n",
              "1           2        curry     15\n",
              "2           3        ramen     12"
            ]
          },
          "execution_count": 5,
          "metadata": {},
          "output_type": "execute_result"
        }
      ],
      "source": [
        "menu"
      ]
    },
    {
      "cell_type": "code",
      "execution_count": null,
      "id": "72f3d6d5",
      "metadata": {
        "id": "72f3d6d5",
        "outputId": "091e2e29-c27e-4742-bd9d-80f96e9db730"
      },
      "outputs": [
        {
          "name": "stdout",
          "output_type": "stream",
          "text": [
            "<class 'pandas.core.frame.DataFrame'>\n",
            "RangeIndex: 3 entries, 0 to 2\n",
            "Data columns (total 3 columns):\n",
            " #   Column        Non-Null Count  Dtype \n",
            "---  ------        --------------  ----- \n",
            " 0   product_id    3 non-null      int64 \n",
            " 1   product_name  3 non-null      object\n",
            " 2   price         3 non-null      int64 \n",
            "dtypes: int64(2), object(1)\n",
            "memory usage: 204.0+ bytes\n"
          ]
        }
      ],
      "source": [
        "menu.info()"
      ]
    },
    {
      "cell_type": "code",
      "execution_count": null,
      "id": "c00f62fa",
      "metadata": {
        "id": "c00f62fa",
        "outputId": "d112d1f5-87d4-4797-bbd5-f2bdcb71623e"
      },
      "outputs": [
        {
          "data": {
            "text/html": [
              "<div>\n",
              "<style scoped>\n",
              "    .dataframe tbody tr th:only-of-type {\n",
              "        vertical-align: middle;\n",
              "    }\n",
              "\n",
              "    .dataframe tbody tr th {\n",
              "        vertical-align: top;\n",
              "    }\n",
              "\n",
              "    .dataframe thead th {\n",
              "        text-align: right;\n",
              "    }\n",
              "</style>\n",
              "<table border=\"1\" class=\"dataframe\">\n",
              "  <thead>\n",
              "    <tr style=\"text-align: right;\">\n",
              "      <th></th>\n",
              "      <th>customer_id</th>\n",
              "      <th>join_date</th>\n",
              "    </tr>\n",
              "  </thead>\n",
              "  <tbody>\n",
              "    <tr>\n",
              "      <th>0</th>\n",
              "      <td>A</td>\n",
              "      <td>2021-01-07</td>\n",
              "    </tr>\n",
              "    <tr>\n",
              "      <th>1</th>\n",
              "      <td>B</td>\n",
              "      <td>2021-01-09</td>\n",
              "    </tr>\n",
              "  </tbody>\n",
              "</table>\n",
              "</div>"
            ],
            "text/plain": [
              "  customer_id  join_date\n",
              "0           A 2021-01-07\n",
              "1           B 2021-01-09"
            ]
          },
          "execution_count": 16,
          "metadata": {},
          "output_type": "execute_result"
        }
      ],
      "source": [
        "members"
      ]
    },
    {
      "cell_type": "code",
      "execution_count": null,
      "id": "bd099578",
      "metadata": {
        "id": "bd099578",
        "outputId": "efe5094f-7241-44c8-ba0f-bae2a379ddb1"
      },
      "outputs": [
        {
          "name": "stdout",
          "output_type": "stream",
          "text": [
            "<class 'pandas.core.frame.DataFrame'>\n",
            "RangeIndex: 2 entries, 0 to 1\n",
            "Data columns (total 2 columns):\n",
            " #   Column       Non-Null Count  Dtype \n",
            "---  ------       --------------  ----- \n",
            " 0   customer_id  2 non-null      object\n",
            " 1   join_date    2 non-null      object\n",
            "dtypes: object(2)\n",
            "memory usage: 164.0+ bytes\n"
          ]
        }
      ],
      "source": [
        "members.info()"
      ]
    },
    {
      "cell_type": "markdown",
      "id": "cb3a02f5",
      "metadata": {
        "id": "cb3a02f5"
      },
      "source": [
        "### Make sure that each type of information (like numbers or dates) is stored in the correct way. This helps ensure that the data is accurate and ready for analysis, making your work more reliable and meaningful.\n"
      ]
    },
    {
      "cell_type": "code",
      "execution_count": null,
      "id": "bb70c536",
      "metadata": {
        "id": "bb70c536"
      },
      "outputs": [],
      "source": [
        "sales['order_date']=pd.to_datetime(sales['order_date'])"
      ]
    },
    {
      "cell_type": "code",
      "execution_count": null,
      "id": "c089140e",
      "metadata": {
        "id": "c089140e",
        "outputId": "b7988f3d-6bf9-44b0-aa3f-fc1ccd2b6c48"
      },
      "outputs": [
        {
          "name": "stdout",
          "output_type": "stream",
          "text": [
            "<class 'pandas.core.frame.DataFrame'>\n",
            "RangeIndex: 15 entries, 0 to 14\n",
            "Data columns (total 3 columns):\n",
            " #   Column       Non-Null Count  Dtype         \n",
            "---  ------       --------------  -----         \n",
            " 0   customer_id  15 non-null     object        \n",
            " 1   order_date   15 non-null     datetime64[ns]\n",
            " 2   product_id   15 non-null     int64         \n",
            "dtypes: datetime64[ns](1), int64(1), object(1)\n",
            "memory usage: 492.0+ bytes\n"
          ]
        }
      ],
      "source": [
        "sales.info()"
      ]
    },
    {
      "cell_type": "code",
      "execution_count": null,
      "id": "52e63c01",
      "metadata": {
        "id": "52e63c01"
      },
      "outputs": [],
      "source": [
        "members['join_date'] = members['join_date'].apply(pd.to_datetime)"
      ]
    },
    {
      "cell_type": "code",
      "execution_count": null,
      "id": "27499e84",
      "metadata": {
        "id": "27499e84",
        "outputId": "6dcfcb80-dd7b-425b-f57d-6b3e50d2b384"
      },
      "outputs": [
        {
          "name": "stdout",
          "output_type": "stream",
          "text": [
            "<class 'pandas.core.frame.DataFrame'>\n",
            "RangeIndex: 2 entries, 0 to 1\n",
            "Data columns (total 2 columns):\n",
            " #   Column       Non-Null Count  Dtype         \n",
            "---  ------       --------------  -----         \n",
            " 0   customer_id  2 non-null      object        \n",
            " 1   join_date    2 non-null      datetime64[ns]\n",
            "dtypes: datetime64[ns](1), object(1)\n",
            "memory usage: 164.0+ bytes\n"
          ]
        }
      ],
      "source": [
        "members.info()"
      ]
    },
    {
      "cell_type": "markdown",
      "id": "92aad59a",
      "metadata": {
        "id": "92aad59a"
      },
      "source": [
        "### 1. What is the total amount each customer spent at the restaurant?"
      ]
    },
    {
      "cell_type": "code",
      "execution_count": null,
      "id": "0e2c8bb5",
      "metadata": {
        "id": "0e2c8bb5",
        "outputId": "9e38ef69-16bb-43cb-9f4f-c5dda7accf59"
      },
      "outputs": [
        {
          "data": {
            "text/html": [
              "<div>\n",
              "<style scoped>\n",
              "    .dataframe tbody tr th:only-of-type {\n",
              "        vertical-align: middle;\n",
              "    }\n",
              "\n",
              "    .dataframe tbody tr th {\n",
              "        vertical-align: top;\n",
              "    }\n",
              "\n",
              "    .dataframe thead th {\n",
              "        text-align: right;\n",
              "    }\n",
              "</style>\n",
              "<table border=\"1\" class=\"dataframe\">\n",
              "  <thead>\n",
              "    <tr style=\"text-align: right;\">\n",
              "      <th></th>\n",
              "      <th>customer_id</th>\n",
              "      <th>order_date</th>\n",
              "      <th>product_id</th>\n",
              "      <th>product_name</th>\n",
              "      <th>price</th>\n",
              "    </tr>\n",
              "  </thead>\n",
              "  <tbody>\n",
              "    <tr>\n",
              "      <th>0</th>\n",
              "      <td>A</td>\n",
              "      <td>2021-01-01</td>\n",
              "      <td>1</td>\n",
              "      <td>sushi</td>\n",
              "      <td>10</td>\n",
              "    </tr>\n",
              "    <tr>\n",
              "      <th>1</th>\n",
              "      <td>B</td>\n",
              "      <td>2021-01-04</td>\n",
              "      <td>1</td>\n",
              "      <td>sushi</td>\n",
              "      <td>10</td>\n",
              "    </tr>\n",
              "    <tr>\n",
              "      <th>2</th>\n",
              "      <td>B</td>\n",
              "      <td>2021-01-11</td>\n",
              "      <td>1</td>\n",
              "      <td>sushi</td>\n",
              "      <td>10</td>\n",
              "    </tr>\n",
              "    <tr>\n",
              "      <th>3</th>\n",
              "      <td>A</td>\n",
              "      <td>2021-01-01</td>\n",
              "      <td>2</td>\n",
              "      <td>curry</td>\n",
              "      <td>15</td>\n",
              "    </tr>\n",
              "    <tr>\n",
              "      <th>4</th>\n",
              "      <td>A</td>\n",
              "      <td>2021-01-07</td>\n",
              "      <td>2</td>\n",
              "      <td>curry</td>\n",
              "      <td>15</td>\n",
              "    </tr>\n",
              "    <tr>\n",
              "      <th>5</th>\n",
              "      <td>B</td>\n",
              "      <td>2021-01-01</td>\n",
              "      <td>2</td>\n",
              "      <td>curry</td>\n",
              "      <td>15</td>\n",
              "    </tr>\n",
              "    <tr>\n",
              "      <th>6</th>\n",
              "      <td>B</td>\n",
              "      <td>2021-01-02</td>\n",
              "      <td>2</td>\n",
              "      <td>curry</td>\n",
              "      <td>15</td>\n",
              "    </tr>\n",
              "    <tr>\n",
              "      <th>7</th>\n",
              "      <td>A</td>\n",
              "      <td>2021-01-10</td>\n",
              "      <td>3</td>\n",
              "      <td>ramen</td>\n",
              "      <td>12</td>\n",
              "    </tr>\n",
              "    <tr>\n",
              "      <th>8</th>\n",
              "      <td>A</td>\n",
              "      <td>2021-01-11</td>\n",
              "      <td>3</td>\n",
              "      <td>ramen</td>\n",
              "      <td>12</td>\n",
              "    </tr>\n",
              "    <tr>\n",
              "      <th>9</th>\n",
              "      <td>A</td>\n",
              "      <td>2021-01-11</td>\n",
              "      <td>3</td>\n",
              "      <td>ramen</td>\n",
              "      <td>12</td>\n",
              "    </tr>\n",
              "    <tr>\n",
              "      <th>10</th>\n",
              "      <td>B</td>\n",
              "      <td>2021-01-16</td>\n",
              "      <td>3</td>\n",
              "      <td>ramen</td>\n",
              "      <td>12</td>\n",
              "    </tr>\n",
              "    <tr>\n",
              "      <th>11</th>\n",
              "      <td>B</td>\n",
              "      <td>2021-02-01</td>\n",
              "      <td>3</td>\n",
              "      <td>ramen</td>\n",
              "      <td>12</td>\n",
              "    </tr>\n",
              "    <tr>\n",
              "      <th>12</th>\n",
              "      <td>C</td>\n",
              "      <td>2021-01-01</td>\n",
              "      <td>3</td>\n",
              "      <td>ramen</td>\n",
              "      <td>12</td>\n",
              "    </tr>\n",
              "    <tr>\n",
              "      <th>13</th>\n",
              "      <td>C</td>\n",
              "      <td>2021-01-01</td>\n",
              "      <td>3</td>\n",
              "      <td>ramen</td>\n",
              "      <td>12</td>\n",
              "    </tr>\n",
              "    <tr>\n",
              "      <th>14</th>\n",
              "      <td>C</td>\n",
              "      <td>2021-01-07</td>\n",
              "      <td>3</td>\n",
              "      <td>ramen</td>\n",
              "      <td>12</td>\n",
              "    </tr>\n",
              "  </tbody>\n",
              "</table>\n",
              "</div>"
            ],
            "text/plain": [
              "   customer_id order_date  product_id product_name  price\n",
              "0            A 2021-01-01           1        sushi     10\n",
              "1            B 2021-01-04           1        sushi     10\n",
              "2            B 2021-01-11           1        sushi     10\n",
              "3            A 2021-01-01           2        curry     15\n",
              "4            A 2021-01-07           2        curry     15\n",
              "5            B 2021-01-01           2        curry     15\n",
              "6            B 2021-01-02           2        curry     15\n",
              "7            A 2021-01-10           3        ramen     12\n",
              "8            A 2021-01-11           3        ramen     12\n",
              "9            A 2021-01-11           3        ramen     12\n",
              "10           B 2021-01-16           3        ramen     12\n",
              "11           B 2021-02-01           3        ramen     12\n",
              "12           C 2021-01-01           3        ramen     12\n",
              "13           C 2021-01-01           3        ramen     12\n",
              "14           C 2021-01-07           3        ramen     12"
            ]
          },
          "execution_count": 14,
          "metadata": {},
          "output_type": "execute_result"
        }
      ],
      "source": [
        "# Merge the DataFrames\n",
        "merged_df = pd.merge(sales, menu, on='product_id') # inner join\n",
        "merged_df"
      ]
    },
    {
      "cell_type": "code",
      "execution_count": null,
      "id": "e7f248e2",
      "metadata": {
        "id": "e7f248e2",
        "outputId": "a1a4e471-ad0b-4a09-c821-1a69ad902ddb"
      },
      "outputs": [
        {
          "data": {
            "text/html": [
              "<div>\n",
              "<style scoped>\n",
              "    .dataframe tbody tr th:only-of-type {\n",
              "        vertical-align: middle;\n",
              "    }\n",
              "\n",
              "    .dataframe tbody tr th {\n",
              "        vertical-align: top;\n",
              "    }\n",
              "\n",
              "    .dataframe thead th {\n",
              "        text-align: right;\n",
              "    }\n",
              "</style>\n",
              "<table border=\"1\" class=\"dataframe\">\n",
              "  <thead>\n",
              "    <tr style=\"text-align: right;\">\n",
              "      <th></th>\n",
              "      <th>customer_id</th>\n",
              "      <th>total_sales</th>\n",
              "    </tr>\n",
              "  </thead>\n",
              "  <tbody>\n",
              "    <tr>\n",
              "      <th>0</th>\n",
              "      <td>A</td>\n",
              "      <td>76</td>\n",
              "    </tr>\n",
              "    <tr>\n",
              "      <th>1</th>\n",
              "      <td>B</td>\n",
              "      <td>74</td>\n",
              "    </tr>\n",
              "    <tr>\n",
              "      <th>2</th>\n",
              "      <td>C</td>\n",
              "      <td>36</td>\n",
              "    </tr>\n",
              "  </tbody>\n",
              "</table>\n",
              "</div>"
            ],
            "text/plain": [
              "  customer_id  total_sales\n",
              "0           A           76\n",
              "1           B           74\n",
              "2           C           36"
            ]
          },
          "execution_count": 13,
          "metadata": {},
          "output_type": "execute_result"
        }
      ],
      "source": [
        "\n",
        "# Merge the DataFrames\n",
        "merged_df = pd.merge(sales, menu, on='product_id') # inner join\n",
        "\n",
        "# Perform the aggregation\n",
        "result_df = merged_df.groupby('customer_id')['price'].sum().reset_index()\n",
        "\n",
        "#renamming\n",
        "result_df = result_df.rename(columns={'customer_id': 'customer_id', 'price': 'total_sales'})\n",
        "\n",
        "# Sort the result DataFrame by customer_id\n",
        "result_df = result_df.sort_values(by='customer_id')\n",
        "\n",
        "# Display the result\n",
        "result_df"
      ]
    },
    {
      "cell_type": "markdown",
      "id": "81c6b76e",
      "metadata": {
        "id": "81c6b76e"
      },
      "source": [
        "- Customer A spent \\$76\n",
        "- Customer B spent \\$74\n",
        "- Customer C spent $36"
      ]
    },
    {
      "cell_type": "code",
      "execution_count": null,
      "id": "2f720dc3",
      "metadata": {
        "id": "2f720dc3"
      },
      "outputs": [],
      "source": []
    },
    {
      "cell_type": "markdown",
      "id": "de90d61e",
      "metadata": {
        "id": "de90d61e"
      },
      "source": [
        "\n",
        "### 2.How many days has each customer visited the restaurant?\n"
      ]
    },
    {
      "cell_type": "code",
      "execution_count": null,
      "id": "8498e149",
      "metadata": {
        "id": "8498e149",
        "outputId": "4391a7a9-d203-44b1-e14d-3c9bbaf9deea"
      },
      "outputs": [
        {
          "data": {
            "text/html": [
              "<div>\n",
              "<style scoped>\n",
              "    .dataframe tbody tr th:only-of-type {\n",
              "        vertical-align: middle;\n",
              "    }\n",
              "\n",
              "    .dataframe tbody tr th {\n",
              "        vertical-align: top;\n",
              "    }\n",
              "\n",
              "    .dataframe thead th {\n",
              "        text-align: right;\n",
              "    }\n",
              "</style>\n",
              "<table border=\"1\" class=\"dataframe\">\n",
              "  <thead>\n",
              "    <tr style=\"text-align: right;\">\n",
              "      <th></th>\n",
              "      <th>customer_id</th>\n",
              "      <th>visit_count</th>\n",
              "    </tr>\n",
              "  </thead>\n",
              "  <tbody>\n",
              "    <tr>\n",
              "      <th>0</th>\n",
              "      <td>A</td>\n",
              "      <td>4</td>\n",
              "    </tr>\n",
              "    <tr>\n",
              "      <th>1</th>\n",
              "      <td>B</td>\n",
              "      <td>6</td>\n",
              "    </tr>\n",
              "    <tr>\n",
              "      <th>2</th>\n",
              "      <td>C</td>\n",
              "      <td>2</td>\n",
              "    </tr>\n",
              "  </tbody>\n",
              "</table>\n",
              "</div>"
            ],
            "text/plain": [
              "  customer_id  visit_count\n",
              "0           A            4\n",
              "1           B            6\n",
              "2           C            2"
            ]
          },
          "execution_count": 14,
          "metadata": {},
          "output_type": "execute_result"
        }
      ],
      "source": [
        "# Perform the aggregation\n",
        "visit_count = sales.groupby('customer_id')['order_date'].nunique().reset_index()\n",
        "\n",
        "# Rename the columns to match the SQL query\n",
        "visit_count = visit_count.rename(columns={'customer_id': 'customer_id', 'order_date': 'visit_count'})\n",
        "\n",
        "visit_count\n"
      ]
    },
    {
      "cell_type": "markdown",
      "id": "d37c3104",
      "metadata": {
        "id": "d37c3104"
      },
      "source": [
        "### insights\n",
        "- Customer A visited 4 times.\n",
        "- Customer B visited 6 times.\n",
        "- Customer C visited 2 times."
      ]
    },
    {
      "cell_type": "code",
      "execution_count": null,
      "id": "5d6fdcc0",
      "metadata": {
        "id": "5d6fdcc0"
      },
      "outputs": [],
      "source": []
    },
    {
      "cell_type": "markdown",
      "id": "0083e3d7",
      "metadata": {
        "id": "0083e3d7"
      },
      "source": [
        "### 3. What was the first item from the menu purchased by each customer?"
      ]
    },
    {
      "cell_type": "code",
      "execution_count": null,
      "id": "98960854",
      "metadata": {
        "id": "98960854",
        "outputId": "93effe77-fc74-4849-b8df-3f2c7968a58a"
      },
      "outputs": [
        {
          "data": {
            "text/html": [
              "<div>\n",
              "<style scoped>\n",
              "    .dataframe tbody tr th:only-of-type {\n",
              "        vertical-align: middle;\n",
              "    }\n",
              "\n",
              "    .dataframe tbody tr th {\n",
              "        vertical-align: top;\n",
              "    }\n",
              "\n",
              "    .dataframe thead th {\n",
              "        text-align: right;\n",
              "    }\n",
              "</style>\n",
              "<table border=\"1\" class=\"dataframe\">\n",
              "  <thead>\n",
              "    <tr style=\"text-align: right;\">\n",
              "      <th></th>\n",
              "      <th>customer_id</th>\n",
              "      <th>order_date</th>\n",
              "      <th>product_id</th>\n",
              "      <th>product_name</th>\n",
              "      <th>price</th>\n",
              "    </tr>\n",
              "  </thead>\n",
              "  <tbody>\n",
              "    <tr>\n",
              "      <th>0</th>\n",
              "      <td>A</td>\n",
              "      <td>2021-01-01</td>\n",
              "      <td>1</td>\n",
              "      <td>sushi</td>\n",
              "      <td>10</td>\n",
              "    </tr>\n",
              "    <tr>\n",
              "      <th>1</th>\n",
              "      <td>B</td>\n",
              "      <td>2021-01-04</td>\n",
              "      <td>1</td>\n",
              "      <td>sushi</td>\n",
              "      <td>10</td>\n",
              "    </tr>\n",
              "    <tr>\n",
              "      <th>2</th>\n",
              "      <td>B</td>\n",
              "      <td>2021-01-11</td>\n",
              "      <td>1</td>\n",
              "      <td>sushi</td>\n",
              "      <td>10</td>\n",
              "    </tr>\n",
              "    <tr>\n",
              "      <th>3</th>\n",
              "      <td>A</td>\n",
              "      <td>2021-01-01</td>\n",
              "      <td>2</td>\n",
              "      <td>curry</td>\n",
              "      <td>15</td>\n",
              "    </tr>\n",
              "    <tr>\n",
              "      <th>4</th>\n",
              "      <td>A</td>\n",
              "      <td>2021-01-07</td>\n",
              "      <td>2</td>\n",
              "      <td>curry</td>\n",
              "      <td>15</td>\n",
              "    </tr>\n",
              "    <tr>\n",
              "      <th>5</th>\n",
              "      <td>B</td>\n",
              "      <td>2021-01-01</td>\n",
              "      <td>2</td>\n",
              "      <td>curry</td>\n",
              "      <td>15</td>\n",
              "    </tr>\n",
              "    <tr>\n",
              "      <th>6</th>\n",
              "      <td>B</td>\n",
              "      <td>2021-01-02</td>\n",
              "      <td>2</td>\n",
              "      <td>curry</td>\n",
              "      <td>15</td>\n",
              "    </tr>\n",
              "    <tr>\n",
              "      <th>7</th>\n",
              "      <td>A</td>\n",
              "      <td>2021-01-10</td>\n",
              "      <td>3</td>\n",
              "      <td>ramen</td>\n",
              "      <td>12</td>\n",
              "    </tr>\n",
              "    <tr>\n",
              "      <th>8</th>\n",
              "      <td>A</td>\n",
              "      <td>2021-01-11</td>\n",
              "      <td>3</td>\n",
              "      <td>ramen</td>\n",
              "      <td>12</td>\n",
              "    </tr>\n",
              "    <tr>\n",
              "      <th>9</th>\n",
              "      <td>A</td>\n",
              "      <td>2021-01-11</td>\n",
              "      <td>3</td>\n",
              "      <td>ramen</td>\n",
              "      <td>12</td>\n",
              "    </tr>\n",
              "    <tr>\n",
              "      <th>10</th>\n",
              "      <td>B</td>\n",
              "      <td>2021-01-16</td>\n",
              "      <td>3</td>\n",
              "      <td>ramen</td>\n",
              "      <td>12</td>\n",
              "    </tr>\n",
              "    <tr>\n",
              "      <th>11</th>\n",
              "      <td>B</td>\n",
              "      <td>2021-02-01</td>\n",
              "      <td>3</td>\n",
              "      <td>ramen</td>\n",
              "      <td>12</td>\n",
              "    </tr>\n",
              "    <tr>\n",
              "      <th>12</th>\n",
              "      <td>C</td>\n",
              "      <td>2021-01-01</td>\n",
              "      <td>3</td>\n",
              "      <td>ramen</td>\n",
              "      <td>12</td>\n",
              "    </tr>\n",
              "    <tr>\n",
              "      <th>13</th>\n",
              "      <td>C</td>\n",
              "      <td>2021-01-01</td>\n",
              "      <td>3</td>\n",
              "      <td>ramen</td>\n",
              "      <td>12</td>\n",
              "    </tr>\n",
              "    <tr>\n",
              "      <th>14</th>\n",
              "      <td>C</td>\n",
              "      <td>2021-01-07</td>\n",
              "      <td>3</td>\n",
              "      <td>ramen</td>\n",
              "      <td>12</td>\n",
              "    </tr>\n",
              "  </tbody>\n",
              "</table>\n",
              "</div>"
            ],
            "text/plain": [
              "   customer_id order_date  product_id product_name  price\n",
              "0            A 2021-01-01           1        sushi     10\n",
              "1            B 2021-01-04           1        sushi     10\n",
              "2            B 2021-01-11           1        sushi     10\n",
              "3            A 2021-01-01           2        curry     15\n",
              "4            A 2021-01-07           2        curry     15\n",
              "5            B 2021-01-01           2        curry     15\n",
              "6            B 2021-01-02           2        curry     15\n",
              "7            A 2021-01-10           3        ramen     12\n",
              "8            A 2021-01-11           3        ramen     12\n",
              "9            A 2021-01-11           3        ramen     12\n",
              "10           B 2021-01-16           3        ramen     12\n",
              "11           B 2021-02-01           3        ramen     12\n",
              "12           C 2021-01-01           3        ramen     12\n",
              "13           C 2021-01-01           3        ramen     12\n",
              "14           C 2021-01-07           3        ramen     12"
            ]
          },
          "execution_count": 18,
          "metadata": {},
          "output_type": "execute_result"
        }
      ],
      "source": [
        "# Merge the DataFrames\n",
        "merged_df = pd.merge(sales, menu, on='product_id')\n",
        "merged_df"
      ]
    },
    {
      "cell_type": "code",
      "execution_count": null,
      "id": "b57e8612",
      "metadata": {
        "id": "b57e8612",
        "outputId": "911d7cbf-ced3-4919-c5fa-4d4d5fe19c91"
      },
      "outputs": [
        {
          "data": {
            "text/html": [
              "<div>\n",
              "<style scoped>\n",
              "    .dataframe tbody tr th:only-of-type {\n",
              "        vertical-align: middle;\n",
              "    }\n",
              "\n",
              "    .dataframe tbody tr th {\n",
              "        vertical-align: top;\n",
              "    }\n",
              "\n",
              "    .dataframe thead th {\n",
              "        text-align: right;\n",
              "    }\n",
              "</style>\n",
              "<table border=\"1\" class=\"dataframe\">\n",
              "  <thead>\n",
              "    <tr style=\"text-align: right;\">\n",
              "      <th></th>\n",
              "      <th>customer_id</th>\n",
              "      <th>order_date</th>\n",
              "      <th>product_id</th>\n",
              "      <th>product_name</th>\n",
              "      <th>price</th>\n",
              "      <th>rank</th>\n",
              "    </tr>\n",
              "  </thead>\n",
              "  <tbody>\n",
              "    <tr>\n",
              "      <th>0</th>\n",
              "      <td>A</td>\n",
              "      <td>2021-01-01</td>\n",
              "      <td>1</td>\n",
              "      <td>sushi</td>\n",
              "      <td>10</td>\n",
              "      <td>1.0</td>\n",
              "    </tr>\n",
              "    <tr>\n",
              "      <th>1</th>\n",
              "      <td>B</td>\n",
              "      <td>2021-01-04</td>\n",
              "      <td>1</td>\n",
              "      <td>sushi</td>\n",
              "      <td>10</td>\n",
              "      <td>3.0</td>\n",
              "    </tr>\n",
              "    <tr>\n",
              "      <th>2</th>\n",
              "      <td>B</td>\n",
              "      <td>2021-01-11</td>\n",
              "      <td>1</td>\n",
              "      <td>sushi</td>\n",
              "      <td>10</td>\n",
              "      <td>4.0</td>\n",
              "    </tr>\n",
              "    <tr>\n",
              "      <th>3</th>\n",
              "      <td>A</td>\n",
              "      <td>2021-01-01</td>\n",
              "      <td>2</td>\n",
              "      <td>curry</td>\n",
              "      <td>15</td>\n",
              "      <td>1.0</td>\n",
              "    </tr>\n",
              "    <tr>\n",
              "      <th>4</th>\n",
              "      <td>A</td>\n",
              "      <td>2021-01-07</td>\n",
              "      <td>2</td>\n",
              "      <td>curry</td>\n",
              "      <td>15</td>\n",
              "      <td>2.0</td>\n",
              "    </tr>\n",
              "    <tr>\n",
              "      <th>5</th>\n",
              "      <td>B</td>\n",
              "      <td>2021-01-01</td>\n",
              "      <td>2</td>\n",
              "      <td>curry</td>\n",
              "      <td>15</td>\n",
              "      <td>1.0</td>\n",
              "    </tr>\n",
              "    <tr>\n",
              "      <th>6</th>\n",
              "      <td>B</td>\n",
              "      <td>2021-01-02</td>\n",
              "      <td>2</td>\n",
              "      <td>curry</td>\n",
              "      <td>15</td>\n",
              "      <td>2.0</td>\n",
              "    </tr>\n",
              "    <tr>\n",
              "      <th>7</th>\n",
              "      <td>A</td>\n",
              "      <td>2021-01-10</td>\n",
              "      <td>3</td>\n",
              "      <td>ramen</td>\n",
              "      <td>12</td>\n",
              "      <td>3.0</td>\n",
              "    </tr>\n",
              "    <tr>\n",
              "      <th>8</th>\n",
              "      <td>A</td>\n",
              "      <td>2021-01-11</td>\n",
              "      <td>3</td>\n",
              "      <td>ramen</td>\n",
              "      <td>12</td>\n",
              "      <td>4.0</td>\n",
              "    </tr>\n",
              "    <tr>\n",
              "      <th>9</th>\n",
              "      <td>A</td>\n",
              "      <td>2021-01-11</td>\n",
              "      <td>3</td>\n",
              "      <td>ramen</td>\n",
              "      <td>12</td>\n",
              "      <td>4.0</td>\n",
              "    </tr>\n",
              "    <tr>\n",
              "      <th>10</th>\n",
              "      <td>B</td>\n",
              "      <td>2021-01-16</td>\n",
              "      <td>3</td>\n",
              "      <td>ramen</td>\n",
              "      <td>12</td>\n",
              "      <td>5.0</td>\n",
              "    </tr>\n",
              "    <tr>\n",
              "      <th>11</th>\n",
              "      <td>B</td>\n",
              "      <td>2021-02-01</td>\n",
              "      <td>3</td>\n",
              "      <td>ramen</td>\n",
              "      <td>12</td>\n",
              "      <td>6.0</td>\n",
              "    </tr>\n",
              "    <tr>\n",
              "      <th>12</th>\n",
              "      <td>C</td>\n",
              "      <td>2021-01-01</td>\n",
              "      <td>3</td>\n",
              "      <td>ramen</td>\n",
              "      <td>12</td>\n",
              "      <td>1.0</td>\n",
              "    </tr>\n",
              "    <tr>\n",
              "      <th>13</th>\n",
              "      <td>C</td>\n",
              "      <td>2021-01-01</td>\n",
              "      <td>3</td>\n",
              "      <td>ramen</td>\n",
              "      <td>12</td>\n",
              "      <td>1.0</td>\n",
              "    </tr>\n",
              "    <tr>\n",
              "      <th>14</th>\n",
              "      <td>C</td>\n",
              "      <td>2021-01-07</td>\n",
              "      <td>3</td>\n",
              "      <td>ramen</td>\n",
              "      <td>12</td>\n",
              "      <td>2.0</td>\n",
              "    </tr>\n",
              "  </tbody>\n",
              "</table>\n",
              "</div>"
            ],
            "text/plain": [
              "   customer_id order_date  product_id product_name  price  rank\n",
              "0            A 2021-01-01           1        sushi     10   1.0\n",
              "1            B 2021-01-04           1        sushi     10   3.0\n",
              "2            B 2021-01-11           1        sushi     10   4.0\n",
              "3            A 2021-01-01           2        curry     15   1.0\n",
              "4            A 2021-01-07           2        curry     15   2.0\n",
              "5            B 2021-01-01           2        curry     15   1.0\n",
              "6            B 2021-01-02           2        curry     15   2.0\n",
              "7            A 2021-01-10           3        ramen     12   3.0\n",
              "8            A 2021-01-11           3        ramen     12   4.0\n",
              "9            A 2021-01-11           3        ramen     12   4.0\n",
              "10           B 2021-01-16           3        ramen     12   5.0\n",
              "11           B 2021-02-01           3        ramen     12   6.0\n",
              "12           C 2021-01-01           3        ramen     12   1.0\n",
              "13           C 2021-01-01           3        ramen     12   1.0\n",
              "14           C 2021-01-07           3        ramen     12   2.0"
            ]
          },
          "execution_count": 20,
          "metadata": {},
          "output_type": "execute_result"
        }
      ],
      "source": [
        "# Use DENSE_RANK() equivalent in Pandas\n",
        "merged_df['rank'] = merged_df.groupby('customer_id')['order_date'].rank(method='dense')\n",
        "merged_df"
      ]
    },
    {
      "cell_type": "code",
      "execution_count": null,
      "id": "b11bfb57",
      "metadata": {
        "id": "b11bfb57",
        "outputId": "e488d83e-0410-49a6-fb7b-6503c5b73469"
      },
      "outputs": [
        {
          "data": {
            "text/html": [
              "<div>\n",
              "<style scoped>\n",
              "    .dataframe tbody tr th:only-of-type {\n",
              "        vertical-align: middle;\n",
              "    }\n",
              "\n",
              "    .dataframe tbody tr th {\n",
              "        vertical-align: top;\n",
              "    }\n",
              "\n",
              "    .dataframe thead th {\n",
              "        text-align: right;\n",
              "    }\n",
              "</style>\n",
              "<table border=\"1\" class=\"dataframe\">\n",
              "  <thead>\n",
              "    <tr style=\"text-align: right;\">\n",
              "      <th></th>\n",
              "      <th>customer_id</th>\n",
              "      <th>product_name</th>\n",
              "    </tr>\n",
              "  </thead>\n",
              "  <tbody>\n",
              "    <tr>\n",
              "      <th>0</th>\n",
              "      <td>A</td>\n",
              "      <td>sushi</td>\n",
              "    </tr>\n",
              "    <tr>\n",
              "      <th>3</th>\n",
              "      <td>A</td>\n",
              "      <td>curry</td>\n",
              "    </tr>\n",
              "    <tr>\n",
              "      <th>5</th>\n",
              "      <td>B</td>\n",
              "      <td>curry</td>\n",
              "    </tr>\n",
              "    <tr>\n",
              "      <th>12</th>\n",
              "      <td>C</td>\n",
              "      <td>ramen</td>\n",
              "    </tr>\n",
              "    <tr>\n",
              "      <th>13</th>\n",
              "      <td>C</td>\n",
              "      <td>ramen</td>\n",
              "    </tr>\n",
              "  </tbody>\n",
              "</table>\n",
              "</div>"
            ],
            "text/plain": [
              "   customer_id product_name\n",
              "0            A        sushi\n",
              "3            A        curry\n",
              "5            B        curry\n",
              "12           C        ramen\n",
              "13           C        ramen"
            ]
          },
          "execution_count": 21,
          "metadata": {},
          "output_type": "execute_result"
        }
      ],
      "source": [
        "# Filter rows where rank is 1\n",
        "first_purchase_df = merged_df[merged_df['rank'] == 1][['customer_id', 'product_name']]\n",
        "\n",
        "first_purchase_df"
      ]
    },
    {
      "cell_type": "code",
      "execution_count": null,
      "id": "6974826e",
      "metadata": {
        "id": "6974826e",
        "outputId": "2f066eb8-6af7-471d-b38f-9f3ce783be4a"
      },
      "outputs": [
        {
          "data": {
            "text/html": [
              "<div>\n",
              "<style scoped>\n",
              "    .dataframe tbody tr th:only-of-type {\n",
              "        vertical-align: middle;\n",
              "    }\n",
              "\n",
              "    .dataframe tbody tr th {\n",
              "        vertical-align: top;\n",
              "    }\n",
              "\n",
              "    .dataframe thead th {\n",
              "        text-align: right;\n",
              "    }\n",
              "</style>\n",
              "<table border=\"1\" class=\"dataframe\">\n",
              "  <thead>\n",
              "    <tr style=\"text-align: right;\">\n",
              "      <th></th>\n",
              "      <th>customer_id</th>\n",
              "      <th>product_name</th>\n",
              "    </tr>\n",
              "  </thead>\n",
              "  <tbody>\n",
              "    <tr>\n",
              "      <th>0</th>\n",
              "      <td>A</td>\n",
              "      <td>sushi</td>\n",
              "    </tr>\n",
              "    <tr>\n",
              "      <th>1</th>\n",
              "      <td>B</td>\n",
              "      <td>curry</td>\n",
              "    </tr>\n",
              "    <tr>\n",
              "      <th>2</th>\n",
              "      <td>C</td>\n",
              "      <td>ramen</td>\n",
              "    </tr>\n",
              "  </tbody>\n",
              "</table>\n",
              "</div>"
            ],
            "text/plain": [
              "  customer_id product_name\n",
              "0           A        sushi\n",
              "1           B        curry\n",
              "2           C        ramen"
            ]
          },
          "execution_count": 22,
          "metadata": {},
          "output_type": "execute_result"
        }
      ],
      "source": [
        "# Group by customer_id and get the first purchased item\n",
        "first_purchase_df = first_purchase_df.groupby('customer_id').first().reset_index()\n",
        "first_purchase_df\n"
      ]
    },
    {
      "cell_type": "code",
      "execution_count": null,
      "id": "14849830",
      "metadata": {
        "id": "14849830",
        "outputId": "9ad826f7-1246-4f95-d24d-5de923304967"
      },
      "outputs": [
        {
          "data": {
            "text/html": [
              "<div>\n",
              "<style scoped>\n",
              "    .dataframe tbody tr th:only-of-type {\n",
              "        vertical-align: middle;\n",
              "    }\n",
              "\n",
              "    .dataframe tbody tr th {\n",
              "        vertical-align: top;\n",
              "    }\n",
              "\n",
              "    .dataframe thead th {\n",
              "        text-align: right;\n",
              "    }\n",
              "</style>\n",
              "<table border=\"1\" class=\"dataframe\">\n",
              "  <thead>\n",
              "    <tr style=\"text-align: right;\">\n",
              "      <th></th>\n",
              "      <th>customer_id</th>\n",
              "      <th>product_name</th>\n",
              "    </tr>\n",
              "  </thead>\n",
              "  <tbody>\n",
              "    <tr>\n",
              "      <th>0</th>\n",
              "      <td>A</td>\n",
              "      <td>sushi</td>\n",
              "    </tr>\n",
              "    <tr>\n",
              "      <th>1</th>\n",
              "      <td>B</td>\n",
              "      <td>curry</td>\n",
              "    </tr>\n",
              "    <tr>\n",
              "      <th>2</th>\n",
              "      <td>C</td>\n",
              "      <td>ramen</td>\n",
              "    </tr>\n",
              "  </tbody>\n",
              "</table>\n",
              "</div>"
            ],
            "text/plain": [
              "  customer_id product_name\n",
              "0           A        sushi\n",
              "1           B        curry\n",
              "2           C        ramen"
            ]
          },
          "execution_count": 15,
          "metadata": {},
          "output_type": "execute_result"
        }
      ],
      "source": [
        "# Merge the DataFrames\n",
        "merged_df = pd.merge(sales, menu, on='product_id')\n",
        "\n",
        "# Use DENSE_RANK() equivalent in Pandas\n",
        "merged_df['rank'] = merged_df.groupby('customer_id')['order_date'].rank(method='dense')\n",
        "\n",
        "# Filter rows where rank is 1\n",
        "first_purchase_df = merged_df[merged_df['rank'] == 1][['customer_id', 'product_name']]\n",
        "\n",
        "# Optionally, drop the 'rank' column if you don't need it in the final result\n",
        "first_purchase_df = first_purchase_df.drop(columns='rank', errors='ignore')\n",
        "\n",
        "# Group by customer_id and get the first purchased item\n",
        "first_purchase_df = first_purchase_df.groupby('customer_id').first().reset_index()\n",
        "first_purchase_df"
      ]
    },
    {
      "cell_type": "markdown",
      "id": "e404ca9e",
      "metadata": {
        "id": "e404ca9e"
      },
      "source": [
        "- Customer A’s first order are curry and sushi.\n",
        "- Customer B’s first order is curry.\n",
        "- Customer C’s first order is ramen."
      ]
    },
    {
      "cell_type": "markdown",
      "id": "956c457b",
      "metadata": {
        "id": "956c457b"
      },
      "source": [
        "## Difference between rank and dense rank"
      ]
    },
    {
      "cell_type": "markdown",
      "id": "339876ea",
      "metadata": {
        "id": "339876ea"
      },
      "source": [
        "## Rank:\n",
        "\n",
        "Rank is a simple method of assigning ranks to values where tied values receive the same rank, and the next value receives a rank incremented by the number of tied values.\n",
        "For example, if two values are tied for the second-highest value, they both receive a rank of 2, and the next distinct value receives a rank of 4 (skipping 3).\n",
        "EX:\n",
        "- Values: 10, 20, 30, 30, 40\n",
        "\n",
        "-    Rank:     1,  2,  3,  3,  5\n",
        "\n",
        "## Dense Rank:\n",
        "\n",
        "Dense rank, on the other hand, does not skip ranks for tied values. Tied values all receive the same rank, and the next distinct value receives the next rank without any gaps.\n",
        "It is \"dense\" in the sense that there are no gaps in the sequence of ranks.\n",
        "\n",
        "Ex:\n",
        "- Values:      10, 20, 30, 30, 40\n",
        "\n",
        "- Dense Rank:  1,  2,  3,  3,  4"
      ]
    },
    {
      "cell_type": "markdown",
      "id": "c24e9bd8",
      "metadata": {
        "id": "c24e9bd8"
      },
      "source": [
        "### 4.What is the most purchased item on the menu and how many times was it purchased by all customers?"
      ]
    },
    {
      "cell_type": "code",
      "execution_count": null,
      "id": "f3d3675d",
      "metadata": {
        "id": "f3d3675d",
        "outputId": "864bc1df-c601-4bd3-848e-9ac29b66fb3c"
      },
      "outputs": [
        {
          "data": {
            "text/plain": [
              "product_id\n",
              "3    8\n",
              "2    4\n",
              "1    3\n",
              "Name: count, dtype: int64"
            ]
          },
          "execution_count": 16,
          "metadata": {},
          "output_type": "execute_result"
        }
      ],
      "source": [
        "sales['product_id'].value_counts()"
      ]
    },
    {
      "cell_type": "code",
      "execution_count": null,
      "id": "fbc582ff",
      "metadata": {
        "id": "fbc582ff",
        "outputId": "e2c12aa5-bd20-4aca-a45b-729e9755656f"
      },
      "outputs": [
        {
          "data": {
            "text/html": [
              "<div>\n",
              "<style scoped>\n",
              "    .dataframe tbody tr th:only-of-type {\n",
              "        vertical-align: middle;\n",
              "    }\n",
              "\n",
              "    .dataframe tbody tr th {\n",
              "        vertical-align: top;\n",
              "    }\n",
              "\n",
              "    .dataframe thead th {\n",
              "        text-align: right;\n",
              "    }\n",
              "</style>\n",
              "<table border=\"1\" class=\"dataframe\">\n",
              "  <thead>\n",
              "    <tr style=\"text-align: right;\">\n",
              "      <th></th>\n",
              "      <th>product_id</th>\n",
              "      <th>product_name</th>\n",
              "      <th>price</th>\n",
              "    </tr>\n",
              "  </thead>\n",
              "  <tbody>\n",
              "    <tr>\n",
              "      <th>0</th>\n",
              "      <td>1</td>\n",
              "      <td>sushi</td>\n",
              "      <td>10</td>\n",
              "    </tr>\n",
              "    <tr>\n",
              "      <th>1</th>\n",
              "      <td>2</td>\n",
              "      <td>curry</td>\n",
              "      <td>15</td>\n",
              "    </tr>\n",
              "    <tr>\n",
              "      <th>2</th>\n",
              "      <td>3</td>\n",
              "      <td>ramen</td>\n",
              "      <td>12</td>\n",
              "    </tr>\n",
              "  </tbody>\n",
              "</table>\n",
              "</div>"
            ],
            "text/plain": [
              "   product_id product_name  price\n",
              "0           1        sushi     10\n",
              "1           2        curry     15\n",
              "2           3        ramen     12"
            ]
          },
          "execution_count": 17,
          "metadata": {},
          "output_type": "execute_result"
        }
      ],
      "source": [
        "menu"
      ]
    },
    {
      "cell_type": "code",
      "execution_count": null,
      "id": "5c5301b5",
      "metadata": {
        "id": "5c5301b5",
        "outputId": "076652e1-74de-4f8c-9881-d031ead9c979"
      },
      "outputs": [
        {
          "data": {
            "text/html": [
              "<div>\n",
              "<style scoped>\n",
              "    .dataframe tbody tr th:only-of-type {\n",
              "        vertical-align: middle;\n",
              "    }\n",
              "\n",
              "    .dataframe tbody tr th {\n",
              "        vertical-align: top;\n",
              "    }\n",
              "\n",
              "    .dataframe thead th {\n",
              "        text-align: right;\n",
              "    }\n",
              "</style>\n",
              "<table border=\"1\" class=\"dataframe\">\n",
              "  <thead>\n",
              "    <tr style=\"text-align: right;\">\n",
              "      <th></th>\n",
              "      <th>product_name</th>\n",
              "      <th>most_purchased_item</th>\n",
              "    </tr>\n",
              "  </thead>\n",
              "  <tbody>\n",
              "    <tr>\n",
              "      <th>1</th>\n",
              "      <td>ramen</td>\n",
              "      <td>8</td>\n",
              "    </tr>\n",
              "  </tbody>\n",
              "</table>\n",
              "</div>"
            ],
            "text/plain": [
              "  product_name  most_purchased_item\n",
              "1        ramen                    8"
            ]
          },
          "execution_count": 18,
          "metadata": {},
          "output_type": "execute_result"
        }
      ],
      "source": [
        "result_df = (\n",
        "    pd.merge(sales, menu, on='product_id')\n",
        "    .groupby('product_name')\n",
        "    .size()\n",
        "    .reset_index(name='most_purchased_item')\n",
        "    .sort_values(by='most_purchased_item', ascending=False)\n",
        "    .head(1)\n",
        ")\n",
        "result_df"
      ]
    },
    {
      "cell_type": "code",
      "execution_count": null,
      "id": "842e302e",
      "metadata": {
        "id": "842e302e",
        "outputId": "b6b7a8a4-52be-472d-c981-f4456d4d1e97"
      },
      "outputs": [
        {
          "data": {
            "text/html": [
              "<div>\n",
              "<style scoped>\n",
              "    .dataframe tbody tr th:only-of-type {\n",
              "        vertical-align: middle;\n",
              "    }\n",
              "\n",
              "    .dataframe tbody tr th {\n",
              "        vertical-align: top;\n",
              "    }\n",
              "\n",
              "    .dataframe thead th {\n",
              "        text-align: right;\n",
              "    }\n",
              "</style>\n",
              "<table border=\"1\" class=\"dataframe\">\n",
              "  <thead>\n",
              "    <tr style=\"text-align: right;\">\n",
              "      <th></th>\n",
              "      <th>product_name</th>\n",
              "      <th>most_purchased_item</th>\n",
              "    </tr>\n",
              "  </thead>\n",
              "  <tbody>\n",
              "    <tr>\n",
              "      <th>1</th>\n",
              "      <td>ramen</td>\n",
              "      <td>8</td>\n",
              "    </tr>\n",
              "  </tbody>\n",
              "</table>\n",
              "</div>"
            ],
            "text/plain": [
              "  product_name  most_purchased_item\n",
              "1        ramen                    8"
            ]
          },
          "execution_count": 19,
          "metadata": {},
          "output_type": "execute_result"
        }
      ],
      "source": [
        "pd.merge(sales, menu, on='product_id').groupby('product_name').size().reset_index(name='most_purchased_item').sort_values(by='most_purchased_item', ascending=False).head(1)\n"
      ]
    },
    {
      "cell_type": "code",
      "execution_count": null,
      "id": "200c04e1",
      "metadata": {
        "id": "200c04e1",
        "outputId": "21c7cdaf-61f0-4787-f660-da27f246a3b5"
      },
      "outputs": [
        {
          "data": {
            "text/plain": [
              "product_name\n",
              "curry    4\n",
              "ramen    8\n",
              "sushi    3\n",
              "dtype: int64"
            ]
          },
          "execution_count": 21,
          "metadata": {},
          "output_type": "execute_result"
        }
      ],
      "source": [
        "merged = pd.merge(sales, menu, on='product_id')\n",
        "\n",
        "g = merged.groupby('product_name')\n",
        "\n",
        "g.size()\n"
      ]
    },
    {
      "cell_type": "markdown",
      "id": "c6a115b4",
      "metadata": {
        "id": "c6a115b4"
      },
      "source": [
        "- The most purchased item on the menu is ramen which is 8 times. Yummy!"
      ]
    },
    {
      "cell_type": "code",
      "execution_count": null,
      "id": "ed4a5e00",
      "metadata": {
        "id": "ed4a5e00",
        "outputId": "6e8d1c7f-e025-411f-e0b8-104c81e08767"
      },
      "outputs": [
        {
          "data": {
            "text/plain": [
              "customer_id\n",
              "A    3\n",
              "C    3\n",
              "B    2\n",
              "Name: count, dtype: int64"
            ]
          },
          "execution_count": 29,
          "metadata": {},
          "output_type": "execute_result"
        }
      ],
      "source": [
        "sales.groupby('product_id').get_group(3)['customer_id'].value_counts()"
      ]
    },
    {
      "cell_type": "code",
      "execution_count": null,
      "id": "571fd8cf",
      "metadata": {
        "id": "571fd8cf",
        "outputId": "0ab80e7a-a3ee-4767-faad-a8312d482929"
      },
      "outputs": [
        {
          "data": {
            "text/html": [
              "<div>\n",
              "<style scoped>\n",
              "    .dataframe tbody tr th:only-of-type {\n",
              "        vertical-align: middle;\n",
              "    }\n",
              "\n",
              "    .dataframe tbody tr th {\n",
              "        vertical-align: top;\n",
              "    }\n",
              "\n",
              "    .dataframe thead th {\n",
              "        text-align: right;\n",
              "    }\n",
              "</style>\n",
              "<table border=\"1\" class=\"dataframe\">\n",
              "  <thead>\n",
              "    <tr style=\"text-align: right;\">\n",
              "      <th></th>\n",
              "      <th>customer_id</th>\n",
              "      <th>product_name</th>\n",
              "      <th>order_count</th>\n",
              "    </tr>\n",
              "  </thead>\n",
              "  <tbody>\n",
              "    <tr>\n",
              "      <th>0</th>\n",
              "      <td>A</td>\n",
              "      <td>curry</td>\n",
              "      <td>2</td>\n",
              "    </tr>\n",
              "    <tr>\n",
              "      <th>1</th>\n",
              "      <td>A</td>\n",
              "      <td>ramen</td>\n",
              "      <td>3</td>\n",
              "    </tr>\n",
              "    <tr>\n",
              "      <th>2</th>\n",
              "      <td>A</td>\n",
              "      <td>sushi</td>\n",
              "      <td>1</td>\n",
              "    </tr>\n",
              "    <tr>\n",
              "      <th>3</th>\n",
              "      <td>B</td>\n",
              "      <td>curry</td>\n",
              "      <td>2</td>\n",
              "    </tr>\n",
              "    <tr>\n",
              "      <th>4</th>\n",
              "      <td>B</td>\n",
              "      <td>ramen</td>\n",
              "      <td>2</td>\n",
              "    </tr>\n",
              "    <tr>\n",
              "      <th>5</th>\n",
              "      <td>B</td>\n",
              "      <td>sushi</td>\n",
              "      <td>2</td>\n",
              "    </tr>\n",
              "    <tr>\n",
              "      <th>6</th>\n",
              "      <td>C</td>\n",
              "      <td>ramen</td>\n",
              "      <td>3</td>\n",
              "    </tr>\n",
              "  </tbody>\n",
              "</table>\n",
              "</div>"
            ],
            "text/plain": [
              "  customer_id product_name  order_count\n",
              "0           A        curry            2\n",
              "1           A        ramen            3\n",
              "2           A        sushi            1\n",
              "3           B        curry            2\n",
              "4           B        ramen            2\n",
              "5           B        sushi            2\n",
              "6           C        ramen            3"
            ]
          },
          "execution_count": 32,
          "metadata": {},
          "output_type": "execute_result"
        }
      ],
      "source": [
        "most_popular_df = (\n",
        "    pd.merge(menu, sales, on='product_id')\n",
        "    .groupby(['customer_id', 'product_name'])\n",
        "    #.size()\n",
        "    #.reset_index(name='order_count')\n",
        ")\n",
        "most_popular_df.size().reset_index(name='order_count')"
      ]
    },
    {
      "cell_type": "markdown",
      "id": "e878b602",
      "metadata": {
        "id": "e878b602"
      },
      "source": [
        "### 5.Which item was the most popular for each customer?"
      ]
    },
    {
      "cell_type": "code",
      "execution_count": null,
      "id": "a76ef6a5",
      "metadata": {
        "id": "a76ef6a5",
        "outputId": "78f9d3ac-50aa-4fb6-9af4-227404835ca5"
      },
      "outputs": [
        {
          "data": {
            "text/html": [
              "<div>\n",
              "<style scoped>\n",
              "    .dataframe tbody tr th:only-of-type {\n",
              "        vertical-align: middle;\n",
              "    }\n",
              "\n",
              "    .dataframe tbody tr th {\n",
              "        vertical-align: top;\n",
              "    }\n",
              "\n",
              "    .dataframe thead th {\n",
              "        text-align: right;\n",
              "    }\n",
              "</style>\n",
              "<table border=\"1\" class=\"dataframe\">\n",
              "  <thead>\n",
              "    <tr style=\"text-align: right;\">\n",
              "      <th></th>\n",
              "      <th>customer_id</th>\n",
              "      <th>product_name</th>\n",
              "      <th>order_count</th>\n",
              "    </tr>\n",
              "  </thead>\n",
              "  <tbody>\n",
              "    <tr>\n",
              "      <th>1</th>\n",
              "      <td>A</td>\n",
              "      <td>ramen</td>\n",
              "      <td>3</td>\n",
              "    </tr>\n",
              "    <tr>\n",
              "      <th>3</th>\n",
              "      <td>B</td>\n",
              "      <td>curry</td>\n",
              "      <td>2</td>\n",
              "    </tr>\n",
              "    <tr>\n",
              "      <th>4</th>\n",
              "      <td>B</td>\n",
              "      <td>ramen</td>\n",
              "      <td>2</td>\n",
              "    </tr>\n",
              "    <tr>\n",
              "      <th>5</th>\n",
              "      <td>B</td>\n",
              "      <td>sushi</td>\n",
              "      <td>2</td>\n",
              "    </tr>\n",
              "    <tr>\n",
              "      <th>6</th>\n",
              "      <td>C</td>\n",
              "      <td>ramen</td>\n",
              "      <td>3</td>\n",
              "    </tr>\n",
              "  </tbody>\n",
              "</table>\n",
              "</div>"
            ],
            "text/plain": [
              "  customer_id product_name  order_count\n",
              "1           A        ramen            3\n",
              "3           B        curry            2\n",
              "4           B        ramen            2\n",
              "5           B        sushi            2\n",
              "6           C        ramen            3"
            ]
          },
          "execution_count": 23,
          "metadata": {},
          "output_type": "execute_result"
        }
      ],
      "source": [
        "most_popular_df = (\n",
        "    pd.merge(menu, sales, on='product_id')\n",
        "    .groupby(['customer_id', 'product_name'])\n",
        "    .size()\n",
        "    .reset_index(name='order_count')\n",
        ")\n",
        "\n",
        "most_popular_df['rank'] = (\n",
        "    most_popular_df.groupby('customer_id')['order_count']\n",
        "    .rank(method='dense', ascending=False)\n",
        ")\n",
        "\n",
        "result_df = most_popular_df[most_popular_df['rank'] == 1][['customer_id', 'product_name', 'order_count']]\n",
        "\n",
        "result_df"
      ]
    },
    {
      "cell_type": "code",
      "execution_count": null,
      "id": "5256fc2e",
      "metadata": {
        "id": "5256fc2e",
        "outputId": "5c1c3043-b366-4db5-ae5f-6b437700d656"
      },
      "outputs": [
        {
          "data": {
            "text/html": [
              "<div>\n",
              "<style scoped>\n",
              "    .dataframe tbody tr th:only-of-type {\n",
              "        vertical-align: middle;\n",
              "    }\n",
              "\n",
              "    .dataframe tbody tr th {\n",
              "        vertical-align: top;\n",
              "    }\n",
              "\n",
              "    .dataframe thead th {\n",
              "        text-align: right;\n",
              "    }\n",
              "</style>\n",
              "<table border=\"1\" class=\"dataframe\">\n",
              "  <thead>\n",
              "    <tr style=\"text-align: right;\">\n",
              "      <th></th>\n",
              "      <th>customer_id</th>\n",
              "      <th>product_name</th>\n",
              "      <th>order_count</th>\n",
              "    </tr>\n",
              "  </thead>\n",
              "  <tbody>\n",
              "    <tr>\n",
              "      <th>1</th>\n",
              "      <td>A</td>\n",
              "      <td>ramen</td>\n",
              "      <td>3</td>\n",
              "    </tr>\n",
              "    <tr>\n",
              "      <th>3</th>\n",
              "      <td>B</td>\n",
              "      <td>curry</td>\n",
              "      <td>2</td>\n",
              "    </tr>\n",
              "    <tr>\n",
              "      <th>4</th>\n",
              "      <td>B</td>\n",
              "      <td>ramen</td>\n",
              "      <td>2</td>\n",
              "    </tr>\n",
              "    <tr>\n",
              "      <th>5</th>\n",
              "      <td>B</td>\n",
              "      <td>sushi</td>\n",
              "      <td>2</td>\n",
              "    </tr>\n",
              "    <tr>\n",
              "      <th>6</th>\n",
              "      <td>C</td>\n",
              "      <td>ramen</td>\n",
              "      <td>3</td>\n",
              "    </tr>\n",
              "  </tbody>\n",
              "</table>\n",
              "</div>"
            ],
            "text/plain": [
              "  customer_id product_name  order_count\n",
              "1           A        ramen            3\n",
              "3           B        curry            2\n",
              "4           B        ramen            2\n",
              "5           B        sushi            2\n",
              "6           C        ramen            3"
            ]
          },
          "execution_count": 24,
          "metadata": {},
          "output_type": "execute_result"
        }
      ],
      "source": [
        "most_popular_df =  pd.merge(menu, sales, on='product_id').groupby(['customer_id', 'product_name']).size().reset_index(name='order_count')\n",
        "\n",
        "most_popular_df['rank'] = most_popular_df.groupby('customer_id')['order_count'].rank(method='dense', ascending=False)\n",
        "\n",
        "\n",
        "\n",
        "result_df = most_popular_df[most_popular_df['rank'] == 1][['customer_id', 'product_name', 'order_count']]\n",
        "\n",
        "result_df\n"
      ]
    },
    {
      "cell_type": "markdown",
      "id": "00eba91e",
      "metadata": {
        "id": "00eba91e"
      },
      "source": [
        "- Customer A and C’s favourite item is ramen.\n",
        "- Customer B enjoys all items on the menu. He/she is a true foodie."
      ]
    },
    {
      "cell_type": "code",
      "execution_count": null,
      "id": "4fe180e2",
      "metadata": {
        "id": "4fe180e2",
        "outputId": "8c7d518a-5c1e-448b-d122-eaefb1f74ffe"
      },
      "outputs": [
        {
          "data": {
            "text/html": [
              "<div>\n",
              "<style scoped>\n",
              "    .dataframe tbody tr th:only-of-type {\n",
              "        vertical-align: middle;\n",
              "    }\n",
              "\n",
              "    .dataframe tbody tr th {\n",
              "        vertical-align: top;\n",
              "    }\n",
              "\n",
              "    .dataframe thead th {\n",
              "        text-align: right;\n",
              "    }\n",
              "</style>\n",
              "<table border=\"1\" class=\"dataframe\">\n",
              "  <thead>\n",
              "    <tr style=\"text-align: right;\">\n",
              "      <th></th>\n",
              "      <th>customer_id</th>\n",
              "      <th>join_date</th>\n",
              "      <th>order_date</th>\n",
              "      <th>product_id</th>\n",
              "    </tr>\n",
              "  </thead>\n",
              "  <tbody>\n",
              "    <tr>\n",
              "      <th>0</th>\n",
              "      <td>A</td>\n",
              "      <td>2021-01-07</td>\n",
              "      <td>2021-01-01</td>\n",
              "      <td>1</td>\n",
              "    </tr>\n",
              "    <tr>\n",
              "      <th>1</th>\n",
              "      <td>A</td>\n",
              "      <td>2021-01-07</td>\n",
              "      <td>2021-01-01</td>\n",
              "      <td>2</td>\n",
              "    </tr>\n",
              "    <tr>\n",
              "      <th>2</th>\n",
              "      <td>A</td>\n",
              "      <td>2021-01-07</td>\n",
              "      <td>2021-01-07</td>\n",
              "      <td>2</td>\n",
              "    </tr>\n",
              "    <tr>\n",
              "      <th>3</th>\n",
              "      <td>A</td>\n",
              "      <td>2021-01-07</td>\n",
              "      <td>2021-01-10</td>\n",
              "      <td>3</td>\n",
              "    </tr>\n",
              "    <tr>\n",
              "      <th>4</th>\n",
              "      <td>A</td>\n",
              "      <td>2021-01-07</td>\n",
              "      <td>2021-01-11</td>\n",
              "      <td>3</td>\n",
              "    </tr>\n",
              "    <tr>\n",
              "      <th>5</th>\n",
              "      <td>A</td>\n",
              "      <td>2021-01-07</td>\n",
              "      <td>2021-01-11</td>\n",
              "      <td>3</td>\n",
              "    </tr>\n",
              "    <tr>\n",
              "      <th>6</th>\n",
              "      <td>B</td>\n",
              "      <td>2021-01-09</td>\n",
              "      <td>2021-01-01</td>\n",
              "      <td>2</td>\n",
              "    </tr>\n",
              "    <tr>\n",
              "      <th>7</th>\n",
              "      <td>B</td>\n",
              "      <td>2021-01-09</td>\n",
              "      <td>2021-01-02</td>\n",
              "      <td>2</td>\n",
              "    </tr>\n",
              "    <tr>\n",
              "      <th>8</th>\n",
              "      <td>B</td>\n",
              "      <td>2021-01-09</td>\n",
              "      <td>2021-01-04</td>\n",
              "      <td>1</td>\n",
              "    </tr>\n",
              "    <tr>\n",
              "      <th>9</th>\n",
              "      <td>B</td>\n",
              "      <td>2021-01-09</td>\n",
              "      <td>2021-01-11</td>\n",
              "      <td>1</td>\n",
              "    </tr>\n",
              "    <tr>\n",
              "      <th>10</th>\n",
              "      <td>B</td>\n",
              "      <td>2021-01-09</td>\n",
              "      <td>2021-01-16</td>\n",
              "      <td>3</td>\n",
              "    </tr>\n",
              "    <tr>\n",
              "      <th>11</th>\n",
              "      <td>B</td>\n",
              "      <td>2021-01-09</td>\n",
              "      <td>2021-02-01</td>\n",
              "      <td>3</td>\n",
              "    </tr>\n",
              "  </tbody>\n",
              "</table>\n",
              "</div>"
            ],
            "text/plain": [
              "   customer_id  join_date order_date  product_id\n",
              "0            A 2021-01-07 2021-01-01           1\n",
              "1            A 2021-01-07 2021-01-01           2\n",
              "2            A 2021-01-07 2021-01-07           2\n",
              "3            A 2021-01-07 2021-01-10           3\n",
              "4            A 2021-01-07 2021-01-11           3\n",
              "5            A 2021-01-07 2021-01-11           3\n",
              "6            B 2021-01-09 2021-01-01           2\n",
              "7            B 2021-01-09 2021-01-02           2\n",
              "8            B 2021-01-09 2021-01-04           1\n",
              "9            B 2021-01-09 2021-01-11           1\n",
              "10           B 2021-01-09 2021-01-16           3\n",
              "11           B 2021-01-09 2021-02-01           3"
            ]
          },
          "execution_count": 33,
          "metadata": {},
          "output_type": "execute_result"
        }
      ],
      "source": [
        "# Merge members and sales\n",
        "merged_df = pd.merge(members, sales, on='customer_id')\n",
        "merged_df"
      ]
    },
    {
      "cell_type": "markdown",
      "id": "a1ad1a4e",
      "metadata": {
        "id": "a1ad1a4e"
      },
      "source": [
        "### 6.Which item was purchased first by the customer after they became a member?"
      ]
    },
    {
      "cell_type": "code",
      "execution_count": null,
      "id": "21dae4ca",
      "metadata": {
        "id": "21dae4ca",
        "outputId": "18a90a51-48a1-4da0-be21-03fd40b1b4e9"
      },
      "outputs": [
        {
          "data": {
            "text/html": [
              "<div>\n",
              "<style scoped>\n",
              "    .dataframe tbody tr th:only-of-type {\n",
              "        vertical-align: middle;\n",
              "    }\n",
              "\n",
              "    .dataframe tbody tr th {\n",
              "        vertical-align: top;\n",
              "    }\n",
              "\n",
              "    .dataframe thead th {\n",
              "        text-align: right;\n",
              "    }\n",
              "</style>\n",
              "<table border=\"1\" class=\"dataframe\">\n",
              "  <thead>\n",
              "    <tr style=\"text-align: right;\">\n",
              "      <th></th>\n",
              "      <th>customer_id</th>\n",
              "      <th>product_name</th>\n",
              "    </tr>\n",
              "  </thead>\n",
              "  <tbody>\n",
              "    <tr>\n",
              "      <th>0</th>\n",
              "      <td>A</td>\n",
              "      <td>ramen</td>\n",
              "    </tr>\n",
              "    <tr>\n",
              "      <th>1</th>\n",
              "      <td>B</td>\n",
              "      <td>sushi</td>\n",
              "    </tr>\n",
              "  </tbody>\n",
              "</table>\n",
              "</div>"
            ],
            "text/plain": [
              "  customer_id product_name\n",
              "0           A        ramen\n",
              "1           B        sushi"
            ]
          },
          "execution_count": 25,
          "metadata": {},
          "output_type": "execute_result"
        }
      ],
      "source": [
        "# Merge members and sales\n",
        "merged_df = pd.merge(members, sales, on='customer_id')\n",
        "\n",
        "# Filter rows where the order date is greater than the join date\n",
        "merged_df = merged_df[merged_df['order_date'] > merged_df['join_date']]\n",
        "\n",
        "# Sort by customer_id and order_date\n",
        "merged_df = merged_df.sort_values(by=['customer_id', 'order_date'])\n",
        "\n",
        "# Group by customer_id and select the first row for each group\n",
        "first_purchase_df = merged_df.groupby('customer_id').first().reset_index()\n",
        "\n",
        "# Merge with menu to get the product_name\n",
        "result_df = pd.merge(first_purchase_df, menu, on='product_id')[['customer_id', 'product_name']]\n",
        "\n",
        "result_df"
      ]
    },
    {
      "cell_type": "markdown",
      "id": "09697804",
      "metadata": {
        "id": "09697804"
      },
      "source": [
        "- Customer A’s first order as a member is ramen.\n",
        "- Customer B’s first order as a member is sushi."
      ]
    },
    {
      "cell_type": "code",
      "execution_count": null,
      "id": "0ec29fd5",
      "metadata": {
        "id": "0ec29fd5"
      },
      "outputs": [],
      "source": []
    },
    {
      "cell_type": "markdown",
      "id": "8ab352b3",
      "metadata": {
        "id": "8ab352b3"
      },
      "source": [
        "### 7.Which item was purchased just before the customer became a member?"
      ]
    },
    {
      "cell_type": "code",
      "execution_count": null,
      "id": "e4303e3d",
      "metadata": {
        "id": "e4303e3d",
        "outputId": "35ea22a7-3e3f-4bae-a921-7ac3e1f254df"
      },
      "outputs": [
        {
          "data": {
            "text/html": [
              "<div>\n",
              "<style scoped>\n",
              "    .dataframe tbody tr th:only-of-type {\n",
              "        vertical-align: middle;\n",
              "    }\n",
              "\n",
              "    .dataframe tbody tr th {\n",
              "        vertical-align: top;\n",
              "    }\n",
              "\n",
              "    .dataframe thead th {\n",
              "        text-align: right;\n",
              "    }\n",
              "</style>\n",
              "<table border=\"1\" class=\"dataframe\">\n",
              "  <thead>\n",
              "    <tr style=\"text-align: right;\">\n",
              "      <th></th>\n",
              "      <th>customer_id</th>\n",
              "      <th>product_name</th>\n",
              "    </tr>\n",
              "  </thead>\n",
              "  <tbody>\n",
              "    <tr>\n",
              "      <th>0</th>\n",
              "      <td>A</td>\n",
              "      <td>sushi</td>\n",
              "    </tr>\n",
              "    <tr>\n",
              "      <th>1</th>\n",
              "      <td>B</td>\n",
              "      <td>sushi</td>\n",
              "    </tr>\n",
              "  </tbody>\n",
              "</table>\n",
              "</div>"
            ],
            "text/plain": [
              "  customer_id product_name\n",
              "0           A        sushi\n",
              "1           B        sushi"
            ]
          },
          "execution_count": 27,
          "metadata": {},
          "output_type": "execute_result"
        }
      ],
      "source": [
        "# Merge members and sales\n",
        "merged_df = pd.merge(members, sales, on='customer_id')\n",
        "\n",
        "# Filter rows where the order date is before the join date\n",
        "merged_df = merged_df[merged_df['order_date'] < merged_df['join_date']]\n",
        "\n",
        "# Sort by customer_id and order_date in descending order\n",
        "merged_df = merged_df.sort_values(by=['customer_id', 'order_date'], ascending=[True, False])\n",
        "\n",
        "# Group by customer_id and select the first row for each group (last purchase before joining)\n",
        "last_purchase_df = merged_df.groupby('customer_id').first().reset_index()\n",
        "\n",
        "# Merge with menu to get the product_name\n",
        "result_df = pd.merge(last_purchase_df, menu, on='product_id')[['customer_id', 'product_name']]\n",
        "\n",
        "result_df"
      ]
    },
    {
      "cell_type": "markdown",
      "id": "e0f6ded2",
      "metadata": {
        "id": "e0f6ded2"
      },
      "source": [
        "- Both customers’ last order before becoming members are sushi. That must have been a really good sushi!"
      ]
    },
    {
      "cell_type": "code",
      "execution_count": null,
      "id": "c8416002",
      "metadata": {
        "id": "c8416002"
      },
      "outputs": [],
      "source": []
    },
    {
      "cell_type": "markdown",
      "id": "d8f579c0",
      "metadata": {
        "id": "d8f579c0"
      },
      "source": [
        "### 8.What is the total items and amount spent for each member before they became a member?"
      ]
    },
    {
      "cell_type": "code",
      "execution_count": null,
      "id": "b6a2a9ea",
      "metadata": {
        "id": "b6a2a9ea",
        "outputId": "a1983296-0b85-4e13-85e3-b3a5406a2324"
      },
      "outputs": [
        {
          "data": {
            "text/html": [
              "<div>\n",
              "<style scoped>\n",
              "    .dataframe tbody tr th:only-of-type {\n",
              "        vertical-align: middle;\n",
              "    }\n",
              "\n",
              "    .dataframe tbody tr th {\n",
              "        vertical-align: top;\n",
              "    }\n",
              "\n",
              "    .dataframe thead th {\n",
              "        text-align: right;\n",
              "    }\n",
              "</style>\n",
              "<table border=\"1\" class=\"dataframe\">\n",
              "  <thead>\n",
              "    <tr style=\"text-align: right;\">\n",
              "      <th></th>\n",
              "      <th>customer_id</th>\n",
              "      <th>total_items</th>\n",
              "      <th>total_sales</th>\n",
              "    </tr>\n",
              "  </thead>\n",
              "  <tbody>\n",
              "    <tr>\n",
              "      <th>0</th>\n",
              "      <td>A</td>\n",
              "      <td>2</td>\n",
              "      <td>25</td>\n",
              "    </tr>\n",
              "    <tr>\n",
              "      <th>1</th>\n",
              "      <td>B</td>\n",
              "      <td>3</td>\n",
              "      <td>40</td>\n",
              "    </tr>\n",
              "  </tbody>\n",
              "</table>\n",
              "</div>"
            ],
            "text/plain": [
              "  customer_id  total_items  total_sales\n",
              "0           A            2           25\n",
              "1           B            3           40"
            ]
          },
          "execution_count": 34,
          "metadata": {},
          "output_type": "execute_result"
        }
      ],
      "source": [
        "# Merge sales and members on customer_id and filter based on the condition\n",
        "merged_df = pd.merge(sales, members, on='customer_id')\n",
        "merged_df = merged_df[merged_df['order_date'] < merged_df['join_date']]\n",
        "\n",
        "# Merge with menu to get product information\n",
        "merged_df = pd.merge(merged_df, menu, on='product_id')\n",
        "\n",
        "# Group by customer_id and calculate total items and total sales\n",
        "result_df = merged_df.groupby('customer_id').agg(\n",
        "    total_items=pd.NamedAgg(column='product_id', aggfunc='count'),\n",
        "    total_sales=pd.NamedAgg(column='price', aggfunc='sum')\n",
        ").reset_index()\n",
        "\n",
        "# Sort by customer_id\n",
        "result_df = result_df.sort_values(by='customer_id')\n",
        "\n",
        "result_df"
      ]
    },
    {
      "cell_type": "code",
      "execution_count": null,
      "id": "8088d5aa",
      "metadata": {
        "id": "8088d5aa",
        "outputId": "978f34e8-eec7-4d7c-b9f1-66a093954726"
      },
      "outputs": [
        {
          "data": {
            "text/html": [
              "<div>\n",
              "<style scoped>\n",
              "    .dataframe tbody tr th:only-of-type {\n",
              "        vertical-align: middle;\n",
              "    }\n",
              "\n",
              "    .dataframe tbody tr th {\n",
              "        vertical-align: top;\n",
              "    }\n",
              "\n",
              "    .dataframe thead th {\n",
              "        text-align: right;\n",
              "    }\n",
              "</style>\n",
              "<table border=\"1\" class=\"dataframe\">\n",
              "  <thead>\n",
              "    <tr style=\"text-align: right;\">\n",
              "      <th></th>\n",
              "      <th>customer_id</th>\n",
              "      <th>total_items</th>\n",
              "      <th>total_sales</th>\n",
              "    </tr>\n",
              "  </thead>\n",
              "  <tbody>\n",
              "    <tr>\n",
              "      <th>0</th>\n",
              "      <td>A</td>\n",
              "      <td>2</td>\n",
              "      <td>25</td>\n",
              "    </tr>\n",
              "    <tr>\n",
              "      <th>1</th>\n",
              "      <td>B</td>\n",
              "      <td>3</td>\n",
              "      <td>40</td>\n",
              "    </tr>\n",
              "  </tbody>\n",
              "</table>\n",
              "</div>"
            ],
            "text/plain": [
              "  customer_id  total_items  total_sales\n",
              "0           A            2           25\n",
              "1           B            3           40"
            ]
          },
          "execution_count": 36,
          "metadata": {},
          "output_type": "execute_result"
        }
      ],
      "source": [
        "# Merge sales and members on customer_id and filter based on the condition\n",
        "merged_df = pd.merge(sales, members, on='customer_id')\n",
        "merged_df = merged_df[merged_df['order_date'] < merged_df['join_date']]\n",
        "\n",
        "# Merge with menu to get product information\n",
        "merged_df = pd.merge(merged_df, menu, on='product_id')\n",
        "\n",
        "# Group by customer_id and calculate total items and total sales\n",
        "result_df = merged_df.groupby('customer_id').agg(\n",
        "    total_items=('product_id', 'count'),\n",
        "    total_sales=('price', 'sum')\n",
        ").reset_index()\n",
        "result_df"
      ]
    },
    {
      "cell_type": "markdown",
      "id": "313bc306",
      "metadata": {
        "id": "313bc306"
      },
      "source": [
        "- Customer A spent \\$25 on 2 items.\n",
        "- Customer B spent \\$40 on 3 items."
      ]
    },
    {
      "cell_type": "markdown",
      "id": "81b92307",
      "metadata": {
        "id": "81b92307"
      },
      "source": [
        "### 9.If each \\$1 spent equates to 10 points and sushi has a 2x points multiplier - how many points would each customer have?"
      ]
    },
    {
      "cell_type": "code",
      "execution_count": null,
      "id": "ccf10ee4",
      "metadata": {
        "id": "ccf10ee4",
        "outputId": "252e0530-375f-4ec9-8522-53522fe66e86"
      },
      "outputs": [
        {
          "data": {
            "text/html": [
              "<div>\n",
              "<style scoped>\n",
              "    .dataframe tbody tr th:only-of-type {\n",
              "        vertical-align: middle;\n",
              "    }\n",
              "\n",
              "    .dataframe tbody tr th {\n",
              "        vertical-align: top;\n",
              "    }\n",
              "\n",
              "    .dataframe thead th {\n",
              "        text-align: right;\n",
              "    }\n",
              "</style>\n",
              "<table border=\"1\" class=\"dataframe\">\n",
              "  <thead>\n",
              "    <tr style=\"text-align: right;\">\n",
              "      <th></th>\n",
              "      <th>customer_id</th>\n",
              "      <th>total_points</th>\n",
              "    </tr>\n",
              "  </thead>\n",
              "  <tbody>\n",
              "    <tr>\n",
              "      <th>0</th>\n",
              "      <td>A</td>\n",
              "      <td>860</td>\n",
              "    </tr>\n",
              "    <tr>\n",
              "      <th>1</th>\n",
              "      <td>B</td>\n",
              "      <td>940</td>\n",
              "    </tr>\n",
              "    <tr>\n",
              "      <th>2</th>\n",
              "      <td>C</td>\n",
              "      <td>360</td>\n",
              "    </tr>\n",
              "  </tbody>\n",
              "</table>\n",
              "</div>"
            ],
            "text/plain": [
              "  customer_id  total_points\n",
              "0           A           860\n",
              "1           B           940\n",
              "2           C           360"
            ]
          },
          "execution_count": 36,
          "metadata": {},
          "output_type": "execute_result"
        }
      ],
      "source": [
        "points_df = menu.copy()\n",
        "points_df['points'] = points_df['price'] * 20\n",
        "points_df.loc[points_df['product_id'] != 1, 'points'] = points_df['price'] * 10\n",
        "\n",
        "# Merge sales and points_df on product_id\n",
        "merged_df = pd.merge(sales, points_df, on='product_id')\n",
        "\n",
        "# Group by customer_id and calculate total points\n",
        "result_df = merged_df.groupby('customer_id').agg(\n",
        "    total_points=('points', 'sum')\n",
        ").reset_index()\n",
        "\n",
        "# Sort by customer_id\n",
        "result_df = result_df.sort_values(by='customer_id')\n",
        "\n",
        "result_df"
      ]
    },
    {
      "cell_type": "markdown",
      "id": "21166124",
      "metadata": {
        "id": "21166124"
      },
      "source": [
        "- The total points for Customers A, B and C are $860, $940 and $360"
      ]
    },
    {
      "cell_type": "code",
      "execution_count": null,
      "id": "95c0b8de",
      "metadata": {
        "id": "95c0b8de",
        "outputId": "3f37b8ed-d260-47ec-8132-7f7652396b8d"
      },
      "outputs": [
        {
          "data": {
            "text/html": [
              "<div>\n",
              "<style scoped>\n",
              "    .dataframe tbody tr th:only-of-type {\n",
              "        vertical-align: middle;\n",
              "    }\n",
              "\n",
              "    .dataframe tbody tr th {\n",
              "        vertical-align: top;\n",
              "    }\n",
              "\n",
              "    .dataframe thead th {\n",
              "        text-align: right;\n",
              "    }\n",
              "</style>\n",
              "<table border=\"1\" class=\"dataframe\">\n",
              "  <thead>\n",
              "    <tr style=\"text-align: right;\">\n",
              "      <th></th>\n",
              "      <th>customer_id</th>\n",
              "      <th>total_points</th>\n",
              "    </tr>\n",
              "  </thead>\n",
              "  <tbody>\n",
              "    <tr>\n",
              "      <th>0</th>\n",
              "      <td>A</td>\n",
              "      <td>860</td>\n",
              "    </tr>\n",
              "    <tr>\n",
              "      <th>1</th>\n",
              "      <td>B</td>\n",
              "      <td>940</td>\n",
              "    </tr>\n",
              "    <tr>\n",
              "      <th>2</th>\n",
              "      <td>C</td>\n",
              "      <td>360</td>\n",
              "    </tr>\n",
              "  </tbody>\n",
              "</table>\n",
              "</div>"
            ],
            "text/plain": [
              "  customer_id  total_points\n",
              "0           A           860\n",
              "1           B           940\n",
              "2           C           360"
            ]
          },
          "execution_count": 44,
          "metadata": {},
          "output_type": "execute_result"
        }
      ],
      "source": [
        "points_df = menu.copy()\n",
        "# Merge sales and points_df on product_id\n",
        "merged_df = pd.merge(sales, points_df, on='product_id')\n",
        "merged_df\n",
        "merged_df['points']=merged_df.apply(lambda m_p: m_p['price']*20 if m_p['product_name']=='sushi' else m_p['price']*10,axis=1)\n",
        "merged_df\n",
        "# Group by customer_id and calculate total points\n",
        "result_df = merged_df.groupby('customer_id').agg(\n",
        "    total_points=pd.NamedAgg(column='points', aggfunc='sum')\n",
        ").reset_index()\n",
        "\n",
        "# Sort by customer_id\n",
        "result_df = result_df.sort_values(by='customer_id')\n",
        "\n",
        "result_df"
      ]
    },
    {
      "cell_type": "markdown",
      "id": "8777ff3a",
      "metadata": {
        "id": "8777ff3a"
      },
      "source": [
        "### 10.In the first week after a customer joins the program (including their join date) they earn 2x points on all items, not just sushi - how many points do customer A and B have at the end of January?"
      ]
    },
    {
      "cell_type": "code",
      "execution_count": null,
      "id": "5bf320e5",
      "metadata": {
        "id": "5bf320e5",
        "outputId": "82039f30-158b-405e-cebc-e7c75ec84da2"
      },
      "outputs": [
        {
          "data": {
            "text/html": [
              "<div>\n",
              "<style scoped>\n",
              "    .dataframe tbody tr th:only-of-type {\n",
              "        vertical-align: middle;\n",
              "    }\n",
              "\n",
              "    .dataframe tbody tr th {\n",
              "        vertical-align: top;\n",
              "    }\n",
              "\n",
              "    .dataframe thead th {\n",
              "        text-align: right;\n",
              "    }\n",
              "</style>\n",
              "<table border=\"1\" class=\"dataframe\">\n",
              "  <thead>\n",
              "    <tr style=\"text-align: right;\">\n",
              "      <th></th>\n",
              "      <th>customer_id</th>\n",
              "      <th>order_date</th>\n",
              "      <th>product_id</th>\n",
              "      <th>product_name</th>\n",
              "      <th>price</th>\n",
              "      <th>join_date</th>\n",
              "      <th>points</th>\n",
              "    </tr>\n",
              "  </thead>\n",
              "  <tbody>\n",
              "    <tr>\n",
              "      <th>0</th>\n",
              "      <td>A</td>\n",
              "      <td>2021-01-01</td>\n",
              "      <td>1</td>\n",
              "      <td>sushi</td>\n",
              "      <td>10</td>\n",
              "      <td>2021-01-07</td>\n",
              "      <td>200</td>\n",
              "    </tr>\n",
              "    <tr>\n",
              "      <th>1</th>\n",
              "      <td>A</td>\n",
              "      <td>2021-01-01</td>\n",
              "      <td>2</td>\n",
              "      <td>curry</td>\n",
              "      <td>15</td>\n",
              "      <td>2021-01-07</td>\n",
              "      <td>150</td>\n",
              "    </tr>\n",
              "    <tr>\n",
              "      <th>2</th>\n",
              "      <td>A</td>\n",
              "      <td>2021-01-07</td>\n",
              "      <td>2</td>\n",
              "      <td>curry</td>\n",
              "      <td>15</td>\n",
              "      <td>2021-01-07</td>\n",
              "      <td>300</td>\n",
              "    </tr>\n",
              "    <tr>\n",
              "      <th>3</th>\n",
              "      <td>A</td>\n",
              "      <td>2021-01-10</td>\n",
              "      <td>3</td>\n",
              "      <td>ramen</td>\n",
              "      <td>12</td>\n",
              "      <td>2021-01-07</td>\n",
              "      <td>240</td>\n",
              "    </tr>\n",
              "    <tr>\n",
              "      <th>4</th>\n",
              "      <td>A</td>\n",
              "      <td>2021-01-11</td>\n",
              "      <td>3</td>\n",
              "      <td>ramen</td>\n",
              "      <td>12</td>\n",
              "      <td>2021-01-07</td>\n",
              "      <td>240</td>\n",
              "    </tr>\n",
              "    <tr>\n",
              "      <th>5</th>\n",
              "      <td>A</td>\n",
              "      <td>2021-01-11</td>\n",
              "      <td>3</td>\n",
              "      <td>ramen</td>\n",
              "      <td>12</td>\n",
              "      <td>2021-01-07</td>\n",
              "      <td>240</td>\n",
              "    </tr>\n",
              "    <tr>\n",
              "      <th>6</th>\n",
              "      <td>B</td>\n",
              "      <td>2021-01-04</td>\n",
              "      <td>1</td>\n",
              "      <td>sushi</td>\n",
              "      <td>10</td>\n",
              "      <td>2021-01-09</td>\n",
              "      <td>200</td>\n",
              "    </tr>\n",
              "    <tr>\n",
              "      <th>7</th>\n",
              "      <td>B</td>\n",
              "      <td>2021-01-11</td>\n",
              "      <td>1</td>\n",
              "      <td>sushi</td>\n",
              "      <td>10</td>\n",
              "      <td>2021-01-09</td>\n",
              "      <td>200</td>\n",
              "    </tr>\n",
              "    <tr>\n",
              "      <th>8</th>\n",
              "      <td>B</td>\n",
              "      <td>2021-01-01</td>\n",
              "      <td>2</td>\n",
              "      <td>curry</td>\n",
              "      <td>15</td>\n",
              "      <td>2021-01-09</td>\n",
              "      <td>150</td>\n",
              "    </tr>\n",
              "    <tr>\n",
              "      <th>9</th>\n",
              "      <td>B</td>\n",
              "      <td>2021-01-02</td>\n",
              "      <td>2</td>\n",
              "      <td>curry</td>\n",
              "      <td>15</td>\n",
              "      <td>2021-01-09</td>\n",
              "      <td>150</td>\n",
              "    </tr>\n",
              "    <tr>\n",
              "      <th>10</th>\n",
              "      <td>B</td>\n",
              "      <td>2021-01-16</td>\n",
              "      <td>3</td>\n",
              "      <td>ramen</td>\n",
              "      <td>12</td>\n",
              "      <td>2021-01-09</td>\n",
              "      <td>120</td>\n",
              "    </tr>\n",
              "  </tbody>\n",
              "</table>\n",
              "</div>"
            ],
            "text/plain": [
              "   customer_id order_date  product_id product_name  price  join_date  points\n",
              "0            A 2021-01-01           1        sushi     10 2021-01-07     200\n",
              "1            A 2021-01-01           2        curry     15 2021-01-07     150\n",
              "2            A 2021-01-07           2        curry     15 2021-01-07     300\n",
              "3            A 2021-01-10           3        ramen     12 2021-01-07     240\n",
              "4            A 2021-01-11           3        ramen     12 2021-01-07     240\n",
              "5            A 2021-01-11           3        ramen     12 2021-01-07     240\n",
              "6            B 2021-01-04           1        sushi     10 2021-01-09     200\n",
              "7            B 2021-01-11           1        sushi     10 2021-01-09     200\n",
              "8            B 2021-01-01           2        curry     15 2021-01-09     150\n",
              "9            B 2021-01-02           2        curry     15 2021-01-09     150\n",
              "10           B 2021-01-16           3        ramen     12 2021-01-09     120"
            ]
          },
          "execution_count": 72,
          "metadata": {},
          "output_type": "execute_result"
        }
      ],
      "source": [
        "merged_df = pd.merge(sales, menu, on='product_id')\n",
        "merged_df = pd.merge(merged_df, members, on='customer_id')\n",
        "\n",
        "# Filter rows based on the specified conditions\n",
        "filtered_df = merged_df[\n",
        "    (merged_df['order_date'].dt.month == 1) &\n",
        "    (merged_df['order_date'].dt.year == 2021)\n",
        "].copy()  # Create a copy to avoid SettingWithCopyWarning\n",
        "\n",
        "# Calculate points for each row based on conditions using .loc\n",
        "filtered_df.loc[:, 'points'] = (\n",
        "    ((filtered_df['order_date'] - filtered_df['join_date']).dt.days.between(0, 6)) |\n",
        "    (filtered_df['product_name'] == 'sushi')\n",
        ") * filtered_df['price'] * 10 * 2 + (~(((filtered_df['order_date'] - filtered_df['join_date']).dt.days.between(0, 6)) | (filtered_df['product_name'] == 'sushi'))) * filtered_df['price'] * 10\n",
        "\n",
        "# Group by customer_id and calculate total points\n",
        "#result_df = filtered_df.groupby('customer_id')['points'].sum().reset_index()\n",
        "\n",
        "#result_df\n",
        "filtered_df"
      ]
    },
    {
      "cell_type": "code",
      "execution_count": null,
      "id": "8c583d10",
      "metadata": {
        "id": "8c583d10",
        "outputId": "19b92460-9018-4e57-dc6c-5646817634ca"
      },
      "outputs": [
        {
          "name": "stderr",
          "output_type": "stream",
          "text": [
            "C:\\Users\\THINKPAD\\AppData\\Local\\Temp\\ipykernel_6456\\2486117798.py:10: SettingWithCopyWarning: \n",
            "A value is trying to be set on a copy of a slice from a DataFrame.\n",
            "Try using .loc[row_indexer,col_indexer] = value instead\n",
            "\n",
            "See the caveats in the documentation: https://pandas.pydata.org/pandas-docs/stable/user_guide/indexing.html#returning-a-view-versus-a-copy\n",
            "  x['days_dif']=x['order_date']-x['join_date']\n"
          ]
        },
        {
          "data": {
            "text/html": [
              "<div>\n",
              "<style scoped>\n",
              "    .dataframe tbody tr th:only-of-type {\n",
              "        vertical-align: middle;\n",
              "    }\n",
              "\n",
              "    .dataframe tbody tr th {\n",
              "        vertical-align: top;\n",
              "    }\n",
              "\n",
              "    .dataframe thead th {\n",
              "        text-align: right;\n",
              "    }\n",
              "</style>\n",
              "<table border=\"1\" class=\"dataframe\">\n",
              "  <thead>\n",
              "    <tr style=\"text-align: right;\">\n",
              "      <th></th>\n",
              "      <th>customer_id</th>\n",
              "      <th>order_date</th>\n",
              "      <th>product_id</th>\n",
              "      <th>product_name</th>\n",
              "      <th>price</th>\n",
              "      <th>join_date</th>\n",
              "      <th>days_dif</th>\n",
              "    </tr>\n",
              "  </thead>\n",
              "  <tbody>\n",
              "    <tr>\n",
              "      <th>2</th>\n",
              "      <td>A</td>\n",
              "      <td>2021-01-07</td>\n",
              "      <td>2</td>\n",
              "      <td>curry</td>\n",
              "      <td>15</td>\n",
              "      <td>2021-01-07</td>\n",
              "      <td>0 days</td>\n",
              "    </tr>\n",
              "    <tr>\n",
              "      <th>3</th>\n",
              "      <td>A</td>\n",
              "      <td>2021-01-10</td>\n",
              "      <td>3</td>\n",
              "      <td>ramen</td>\n",
              "      <td>12</td>\n",
              "      <td>2021-01-07</td>\n",
              "      <td>3 days</td>\n",
              "    </tr>\n",
              "    <tr>\n",
              "      <th>4</th>\n",
              "      <td>A</td>\n",
              "      <td>2021-01-11</td>\n",
              "      <td>3</td>\n",
              "      <td>ramen</td>\n",
              "      <td>12</td>\n",
              "      <td>2021-01-07</td>\n",
              "      <td>4 days</td>\n",
              "    </tr>\n",
              "    <tr>\n",
              "      <th>5</th>\n",
              "      <td>A</td>\n",
              "      <td>2021-01-11</td>\n",
              "      <td>3</td>\n",
              "      <td>ramen</td>\n",
              "      <td>12</td>\n",
              "      <td>2021-01-07</td>\n",
              "      <td>4 days</td>\n",
              "    </tr>\n",
              "    <tr>\n",
              "      <th>7</th>\n",
              "      <td>B</td>\n",
              "      <td>2021-01-11</td>\n",
              "      <td>1</td>\n",
              "      <td>sushi</td>\n",
              "      <td>10</td>\n",
              "      <td>2021-01-09</td>\n",
              "      <td>2 days</td>\n",
              "    </tr>\n",
              "    <tr>\n",
              "      <th>10</th>\n",
              "      <td>B</td>\n",
              "      <td>2021-01-16</td>\n",
              "      <td>3</td>\n",
              "      <td>ramen</td>\n",
              "      <td>12</td>\n",
              "      <td>2021-01-09</td>\n",
              "      <td>7 days</td>\n",
              "    </tr>\n",
              "  </tbody>\n",
              "</table>\n",
              "</div>"
            ],
            "text/plain": [
              "   customer_id order_date  product_id product_name  price  join_date days_dif\n",
              "2            A 2021-01-07           2        curry     15 2021-01-07   0 days\n",
              "3            A 2021-01-10           3        ramen     12 2021-01-07   3 days\n",
              "4            A 2021-01-11           3        ramen     12 2021-01-07   4 days\n",
              "5            A 2021-01-11           3        ramen     12 2021-01-07   4 days\n",
              "7            B 2021-01-11           1        sushi     10 2021-01-09   2 days\n",
              "10           B 2021-01-16           3        ramen     12 2021-01-09   7 days"
            ]
          },
          "execution_count": 54,
          "metadata": {},
          "output_type": "execute_result"
        }
      ],
      "source": [
        "merged_df = pd.merge(sales, menu, on='product_id')\n",
        "merged_df = pd.merge(merged_df, members, on='customer_id')\n",
        "#merged_df\n",
        "filtered_df = merged_df[\n",
        "    (merged_df['order_date'].dt.month == 1) &\n",
        "    (merged_df['order_date'].dt.year == 2021)\n",
        "].copy()\n",
        "filtered_df\n",
        "x= filtered_df[filtered_df['order_date']>=filtered_df['join_date']]\n",
        "x['days_dif'] = x['order_date']-x['join_date']\n",
        "x\n",
        "\n",
        "#x['points']=x.apply(lambda m_p: m_p['price']*20 if m_p['product_name']=='sushi' else m_p['price']*10,axis=1)"
      ]
    },
    {
      "cell_type": "code",
      "execution_count": null,
      "id": "7d2f02ae",
      "metadata": {
        "id": "7d2f02ae",
        "outputId": "486f2c5f-039d-40fd-9d14-f28bebc5c0d4"
      },
      "outputs": [
        {
          "name": "stderr",
          "output_type": "stream",
          "text": [
            "C:\\Users\\THINKPAD\\AppData\\Local\\Temp\\ipykernel_6456\\62556065.py:1: SettingWithCopyWarning: \n",
            "A value is trying to be set on a copy of a slice from a DataFrame.\n",
            "Try using .loc[row_indexer,col_indexer] = value instead\n",
            "\n",
            "See the caveats in the documentation: https://pandas.pydata.org/pandas-docs/stable/user_guide/indexing.html#returning-a-view-versus-a-copy\n",
            "  x['points']=x.apply(lambda m_p: m_p['price']*20 if ( (m_p['product_name']=='sushi') |( m_p['days_dif'].days<7 )) else m_p['price']*10,axis=1)\n"
          ]
        }
      ],
      "source": [
        "x['points']=x.apply(lambda m_p: m_p['price']*20 if ( (m_p['product_name']=='sushi') |( m_p['days_dif'].days<7 )) else m_p['price']*10,axis=1)"
      ]
    },
    {
      "cell_type": "code",
      "execution_count": null,
      "id": "4debb24e",
      "metadata": {
        "id": "4debb24e",
        "outputId": "e6b24b8d-502c-4965-9c5a-d3a465a215b4"
      },
      "outputs": [
        {
          "data": {
            "text/html": [
              "<div>\n",
              "<style scoped>\n",
              "    .dataframe tbody tr th:only-of-type {\n",
              "        vertical-align: middle;\n",
              "    }\n",
              "\n",
              "    .dataframe tbody tr th {\n",
              "        vertical-align: top;\n",
              "    }\n",
              "\n",
              "    .dataframe thead th {\n",
              "        text-align: right;\n",
              "    }\n",
              "</style>\n",
              "<table border=\"1\" class=\"dataframe\">\n",
              "  <thead>\n",
              "    <tr style=\"text-align: right;\">\n",
              "      <th></th>\n",
              "      <th>customer_id</th>\n",
              "      <th>order_date</th>\n",
              "      <th>product_id</th>\n",
              "      <th>product_name</th>\n",
              "      <th>price</th>\n",
              "      <th>join_date</th>\n",
              "      <th>days_dif</th>\n",
              "      <th>points</th>\n",
              "    </tr>\n",
              "  </thead>\n",
              "  <tbody>\n",
              "    <tr>\n",
              "      <th>2</th>\n",
              "      <td>A</td>\n",
              "      <td>2021-01-07</td>\n",
              "      <td>2</td>\n",
              "      <td>curry</td>\n",
              "      <td>15</td>\n",
              "      <td>2021-01-07</td>\n",
              "      <td>0 days</td>\n",
              "      <td>300</td>\n",
              "    </tr>\n",
              "    <tr>\n",
              "      <th>3</th>\n",
              "      <td>A</td>\n",
              "      <td>2021-01-10</td>\n",
              "      <td>3</td>\n",
              "      <td>ramen</td>\n",
              "      <td>12</td>\n",
              "      <td>2021-01-07</td>\n",
              "      <td>3 days</td>\n",
              "      <td>240</td>\n",
              "    </tr>\n",
              "    <tr>\n",
              "      <th>4</th>\n",
              "      <td>A</td>\n",
              "      <td>2021-01-11</td>\n",
              "      <td>3</td>\n",
              "      <td>ramen</td>\n",
              "      <td>12</td>\n",
              "      <td>2021-01-07</td>\n",
              "      <td>4 days</td>\n",
              "      <td>240</td>\n",
              "    </tr>\n",
              "    <tr>\n",
              "      <th>5</th>\n",
              "      <td>A</td>\n",
              "      <td>2021-01-11</td>\n",
              "      <td>3</td>\n",
              "      <td>ramen</td>\n",
              "      <td>12</td>\n",
              "      <td>2021-01-07</td>\n",
              "      <td>4 days</td>\n",
              "      <td>240</td>\n",
              "    </tr>\n",
              "    <tr>\n",
              "      <th>7</th>\n",
              "      <td>B</td>\n",
              "      <td>2021-01-11</td>\n",
              "      <td>1</td>\n",
              "      <td>sushi</td>\n",
              "      <td>10</td>\n",
              "      <td>2021-01-09</td>\n",
              "      <td>2 days</td>\n",
              "      <td>200</td>\n",
              "    </tr>\n",
              "    <tr>\n",
              "      <th>10</th>\n",
              "      <td>B</td>\n",
              "      <td>2021-01-16</td>\n",
              "      <td>3</td>\n",
              "      <td>ramen</td>\n",
              "      <td>12</td>\n",
              "      <td>2021-01-09</td>\n",
              "      <td>7 days</td>\n",
              "      <td>120</td>\n",
              "    </tr>\n",
              "  </tbody>\n",
              "</table>\n",
              "</div>"
            ],
            "text/plain": [
              "   customer_id order_date  product_id product_name  price  join_date days_dif  \\\n",
              "2            A 2021-01-07           2        curry     15 2021-01-07   0 days   \n",
              "3            A 2021-01-10           3        ramen     12 2021-01-07   3 days   \n",
              "4            A 2021-01-11           3        ramen     12 2021-01-07   4 days   \n",
              "5            A 2021-01-11           3        ramen     12 2021-01-07   4 days   \n",
              "7            B 2021-01-11           1        sushi     10 2021-01-09   2 days   \n",
              "10           B 2021-01-16           3        ramen     12 2021-01-09   7 days   \n",
              "\n",
              "    points  \n",
              "2      300  \n",
              "3      240  \n",
              "4      240  \n",
              "5      240  \n",
              "7      200  \n",
              "10     120  "
            ]
          },
          "execution_count": 70,
          "metadata": {},
          "output_type": "execute_result"
        }
      ],
      "source": [
        "x"
      ]
    },
    {
      "cell_type": "code",
      "execution_count": null,
      "id": "317eb655",
      "metadata": {
        "id": "317eb655",
        "outputId": "a5784fc1-ca38-4eea-d2ab-cc1c7be02b50"
      },
      "outputs": [
        {
          "data": {
            "text/plain": [
              "customer_id\n",
              "A    1020\n",
              "B     320\n",
              "Name: points, dtype: int64"
            ]
          },
          "execution_count": 71,
          "metadata": {},
          "output_type": "execute_result"
        }
      ],
      "source": [
        "x.groupby('customer_id')['points'].sum()"
      ]
    },
    {
      "cell_type": "code",
      "execution_count": null,
      "id": "580d5eb3",
      "metadata": {
        "id": "580d5eb3"
      },
      "outputs": [],
      "source": []
    }
  ],
  "metadata": {
    "kernelspec": {
      "display_name": "Python 3 (ipykernel)",
      "language": "python",
      "name": "python3"
    },
    "language_info": {
      "codemirror_mode": {
        "name": "ipython",
        "version": 3
      },
      "file_extension": ".py",
      "mimetype": "text/x-python",
      "name": "python",
      "nbconvert_exporter": "python",
      "pygments_lexer": "ipython3",
      "version": "3.11.5"
    },
    "colab": {
      "provenance": []
    }
  },
  "nbformat": 4,
  "nbformat_minor": 5
}